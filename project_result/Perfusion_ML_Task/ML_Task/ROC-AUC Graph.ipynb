{
 "cells": [
  {
   "cell_type": "code",
   "execution_count": null,
   "id": "0dffc07c",
   "metadata": {},
   "outputs": [],
   "source": [
    "import os\n",
    "import time\n",
    "import warnings\n",
    "import graphviz\n",
    "import pydotplus\n",
    "import pandas as pd\n",
    "import numpy as np\n",
    "import seaborn as sns\n",
    "import matplotlib.pyplot as plt\n",
    "from glob import glob\n",
    "\n",
    "\n",
    "from sklearn.linear_model import SGDClassifier\n",
    "from sklearn.linear_model import LogisticRegression\n",
    "\n",
    "from sklearn.svm import SVC\n",
    "\n",
    "from sklearn.tree import DecisionTreeClassifier\n",
    "from sklearn.tree import plot_tree\n",
    "from sklearn.tree import export_graphviz\n",
    "\n",
    "from sklearn.neighbors import KNeighborsClassifier\n",
    "\n",
    "from sklearn.model_selection import cross_val_score\n",
    "from sklearn.model_selection import cross_val_predict\n",
    "from sklearn.model_selection import StratifiedKFold\n",
    "from sklearn.model_selection import GridSearchCV\n",
    "from sklearn.model_selection import cross_validate\n",
    "from sklearn.model_selection import train_test_split\n",
    "\n",
    "from sklearn.metrics import confusion_matrix\n",
    "from sklearn.metrics import precision_score, recall_score, accuracy_score\n",
    "from sklearn.metrics import f1_score, roc_auc_score\n",
    "from sklearn.metrics import roc_curve\n",
    "\n",
    "from sklearn.feature_selection import SelectFromModel\n",
    "from sklearn.feature_selection import VarianceThreshold\n",
    "from sklearn.feature_selection import SelectKBest\n",
    "from sklearn.feature_selection import chi2, f_classif, mutual_info_classif\n",
    "\n",
    "from sklearn.ensemble import ExtraTreesClassifier\n",
    "from sklearn.ensemble import VotingClassifier\n",
    "from sklearn.ensemble import RandomForestClassifier\n",
    "from sklearn.ensemble import GradientBoostingClassifier\n",
    "\n",
    "from sklearn.calibration import CalibratedClassifierCV\n",
    "from sklearn.calibration import calibration_curve\n",
    "\n",
    "from imblearn.over_sampling import SMOTE\n",
    "\n",
    "import xgboost as xgb\n",
    "from xgboost import XGBClassifier\n",
    "\n",
    "import lightgbm\n",
    "from lightgbm import LGBMClassifier\n",
    "from lightgbm import plot_importance\n",
    "\n",
    "import shap"
   ]
  },
  {
   "cell_type": "code",
   "execution_count": null,
   "id": "65db91a2",
   "metadata": {},
   "outputs": [],
   "source": [
    "# selection\n",
    "from sklearn.feature_selection import SelectKBest, f_classif, mutual_info_classif, RFECV, SelectFromModel\n",
    "from sklearn.svm import SVC\n",
    "from sklearn.ensemble import RandomForestClassifier"
   ]
  },
  {
   "cell_type": "code",
   "execution_count": null,
   "id": "13bc8267",
   "metadata": {},
   "outputs": [],
   "source": [
    "# evaluation\n",
    "import sklearn\n",
    "from sklearn.ensemble import RandomForestClassifier, ExtraTreesClassifier\n",
    "from sklearn.model_selection import StratifiedKFold\n",
    "from sklearn.metrics import roc_auc_score, classification_report\n",
    "from sklearn.metrics import confusion_matrix\n",
    "from sklearn.metrics import precision_score, recall_score, accuracy_score, f1_score, roc_auc_score\n",
    "from sklearn.metrics import classification_report\n",
    "from delong import auc_ci"
   ]
  },
  {
   "cell_type": "code",
   "execution_count": null,
   "id": "15cabbef",
   "metadata": {},
   "outputs": [],
   "source": [
    "def get_clf_eval(y_test, pred = None, pred_proba = None):\n",
    "    confusion = confusion_matrix(y_test, pred)\n",
    "    accuracy = accuracy_score(y_test, pred)\n",
    "    precision = precision_score(y_test, pred)\n",
    "    recall = recall_score(y_test, pred)\n",
    "    f1 = f1_score(y_test, pred)\n",
    "    \n",
    "    # ROC_AUC 추가\n",
    "    roc_auc = roc_auc_score(y_test, pred_proba)\n",
    "    print('오차 행렬')\n",
    "    print(confusion)\n",
    "    \n",
    "    # ROC_AUC print 추가\n",
    "    print('정확도: {:.4f}, 정밀도: {:.4f}, 재현율: {:.4f}, F1: {:.4f}, AUC: {:.4f}'.format(accuracy,precision,recall,f1, roc_auc)) "
   ]
  },
  {
   "cell_type": "markdown",
   "id": "47aa0567",
   "metadata": {},
   "source": [
    "# Load Excel"
   ]
  },
  {
   "cell_type": "code",
   "execution_count": null,
   "id": "7ed6eb08",
   "metadata": {},
   "outputs": [],
   "source": [
    "reference_df = pd.read_excel(\"File name\", sheet_name = 'sheet name')"
   ]
  },
  {
   "cell_type": "code",
   "execution_count": null,
   "id": "a1d27241",
   "metadata": {},
   "outputs": [],
   "source": [
    "reference_df "
   ]
  },
  {
   "cell_type": "code",
   "execution_count": null,
   "id": "1501bf98",
   "metadata": {},
   "outputs": [],
   "source": [
    "reference_df[reference_df['combination'] == 'K12']['TEST_proba'].values[0]"
   ]
  },
  {
   "cell_type": "code",
   "execution_count": null,
   "id": "6b504d0a",
   "metadata": {},
   "outputs": [],
   "source": [
    "label_info = reference_df[reference_df['combination'] == 'K12']['TEST_test_label'].values[0][1:-1].split(',')\n",
    "label_info = np.array([int(i.replace(' ', '') ) for i in label_info])"
   ]
  },
  {
   "cell_type": "code",
   "execution_count": null,
   "id": "44d7b5d9",
   "metadata": {
    "scrolled": true
   },
   "outputs": [],
   "source": [
    "label_info"
   ]
  },
  {
   "cell_type": "markdown",
   "id": "cb30b95a",
   "metadata": {},
   "source": [
    "# TPR & FPR "
   ]
  },
  {
   "cell_type": "code",
   "execution_count": null,
   "id": "97772619",
   "metadata": {
    "scrolled": true
   },
   "outputs": [],
   "source": [
    "np.array([ float(i) for i in reference_df[reference_df['combination'] == 'K12']['TEST_proba'].values[0][1:-1].split(',')])"
   ]
  },
  {
   "cell_type": "code",
   "execution_count": null,
   "id": "e1138ea7",
   "metadata": {},
   "outputs": [],
   "source": [
    "reference_df "
   ]
  },
  {
   "cell_type": "code",
   "execution_count": null,
   "id": "d34dca84",
   "metadata": {},
   "outputs": [],
   "source": [
    "K12_proba = np.array([ float(i) for i in reference_df[reference_df['combination'] == 'K12']['TEST_proba'].values[0][1:-1].split(',')])\n",
    "K12_Ve_proba = np.array([ float(i) for i in reference_df[reference_df['combination'] == 'K12+Ve']['TEST_proba'].values[0][1:-1].split(',')])\n",
    "Conven_proba = np.array([ float(i) for i in reference_df[reference_df['combination'] == 'conven']['TEST_proba'].values[0][1:-1].split(',')])\n",
    "Ve_proba = np.array([ float(i) for i in reference_df[reference_df['combination'] == 'Ve']['TEST_proba'].values[0][1:-1].split(',')])\n",
    "Conven_K12_Ve_proba =  np.array([ float(i) for i in reference_df[reference_df['combination'] == 'conven +K12 +Ve']['TEST_proba'].values[0][1:-1].split(',')])"
   ]
  },
  {
   "cell_type": "code",
   "execution_count": null,
   "id": "645745f5",
   "metadata": {},
   "outputs": [],
   "source": [
    "K12_fpr, K12_tpr, K12_thresholds = roc_curve(label_info , K12_proba)\n",
    "K12_Ve_fpr , K12_Ve_tpr, K12_Ve_thresholds = roc_curve(label_info , K12_Ve_proba)\n",
    "Conven_fpr , Conven_tpr, Conven_thresholds = roc_curve(label_info , Conven_proba)\n",
    "Ve_fpr , Ve_tpr, Ve_thresholds = roc_curve(label_info , Ve_proba)\n",
    "Conven_K12_Ve_fpr , Conven_K12_Ve_tpr, Conven_K12_Ve_thresholds = roc_curve(label_info , Conven_K12_Ve_proba)"
   ]
  },
  {
   "cell_type": "code",
   "execution_count": null,
   "id": "02687cef",
   "metadata": {},
   "outputs": [],
   "source": [
    "roc_auc_score(label_info , K12_proba)"
   ]
  },
  {
   "cell_type": "code",
   "execution_count": null,
   "id": "87dbe648",
   "metadata": {},
   "outputs": [],
   "source": [
    "roc_auc_score(label_info , K12_Ve_proba)"
   ]
  },
  {
   "cell_type": "code",
   "execution_count": null,
   "id": "57b9c172",
   "metadata": {},
   "outputs": [],
   "source": [
    "roc_auc_score(label_info , Conven_proba)"
   ]
  },
  {
   "cell_type": "code",
   "execution_count": null,
   "id": "81370679",
   "metadata": {},
   "outputs": [],
   "source": [
    "roc_auc_score(label_info , Ve_proba)"
   ]
  },
  {
   "cell_type": "code",
   "execution_count": null,
   "id": "df048a0a",
   "metadata": {},
   "outputs": [],
   "source": [
    "roc_auc_score(label_info , Conven_K12_Ve_proba)"
   ]
  },
  {
   "cell_type": "markdown",
   "id": "fb0259b0",
   "metadata": {},
   "source": [
    "# Draw ROC-AUC Curve"
   ]
  },
  {
   "cell_type": "code",
   "execution_count": null,
   "id": "f1fe5a39",
   "metadata": {},
   "outputs": [],
   "source": [
    "plt.figure(figsize = (10,10))\n",
    "plt.title(\"ROC-AUC Curve(Total)\", fontsize =20, pad = 20)\n",
    "\n",
    "plt.plot(K12_fpr , K12_tpr, 'C0-',  label = \"K12 : 0.801\" ,linewidth = 3)\n",
    "plt.plot(K12_Ve_fpr , K12_Ve_tpr,  'C2-', label = 'K12 + Ve : 0.774', linewidth = 3)\n",
    "plt.plot(Conven_fpr , Conven_tpr,  'C3-', label = 'Conv : 0.763', linewidth = 3)\n",
    "plt.plot(Ve_fpr , Ve_tpr,  'C4-', label = 'Ve : 0.741', linewidth = 3)\n",
    "plt.plot(Conven_K12_Ve_fpr , Conven_K12_Ve_tpr,  'C5-', label = 'Conv + K12 + Ve : 0.681', linewidth = 3)\n",
    "\n",
    "\n",
    "# 인자 순서 중요!! 안그러면 오류 뜸...\n",
    "plt.plot([0,1], [0,1], 'k--')\n",
    "plt.xlabel('False Positive Rate(FPR)',fontsize =15, labelpad = 15)\n",
    "plt.ylabel('True Positive Rate(TPR)',fontsize =15, labelpad = 15)\n",
    "plt.legend(loc ='lower right', fontsize = 13)\n",
    "plt.grid(False)\n",
    "plt.xlim(0,1)\n",
    "plt.ylim(0,1)\n",
    "# plt.xticks(np.arange(0.1, 1.0, 0.05))\n",
    "plt.show()"
   ]
  },
  {
   "cell_type": "code",
   "execution_count": null,
   "id": "b09c2930",
   "metadata": {},
   "outputs": [],
   "source": [
    "plt.figure(figsize = (10,10))\n",
    "plt.title(\"ROC-AUC Curve(Total)\", fontsize =20, pad = 20)\n",
    "\n",
    "plt.plot(K12_fpr , K12_tpr, 'C0-',  label = \"Ktrans : 0.801\" ,linewidth = 3)\n",
    "plt.plot(K12_Ve_fpr , K12_Ve_tpr,  'C2-', label = 'Ktrans + Ve : 0.774', linewidth = 3)\n",
    "plt.plot(Conven_fpr , Conven_tpr,  'C3-', label = 'Conventional : 0.763', linewidth = 3)\n",
    "plt.plot(Ve_fpr , Ve_tpr,  'C4-', label = 'Ve : 0.741', linewidth = 3)\n",
    "plt.plot(Conven_K12_Ve_fpr , Conven_K12_Ve_tpr,  'C5-', label = 'Conventional + Ktrans + Ve : 0.681', linewidth = 3)\n",
    "\n",
    "\n",
    "# 인자 순서 중요!! 안그러면 오류 뜸...\n",
    "plt.plot([0,1], [0,1], 'k--')\n",
    "plt.xlabel('False Positive Rate(FPR)',fontsize =15, labelpad = 15)\n",
    "plt.ylabel('True Positive Rate(TPR)',fontsize =15, labelpad = 15)\n",
    "plt.legend(loc ='lower right', fontsize = 13)\n",
    "plt.grid(False)\n",
    "plt.xlim(0,1)\n",
    "plt.ylim(0,1)\n",
    "# plt.xticks(np.arange(0.1, 1.0, 0.05))\n",
    "plt.show()"
   ]
  },
  {
   "cell_type": "code",
   "execution_count": null,
   "id": "a9953bf3",
   "metadata": {},
   "outputs": [],
   "source": []
  }
 ],
 "metadata": {
  "kernelspec": {
   "display_name": "Python 3",
   "language": "python",
   "name": "python3"
  },
  "language_info": {
   "codemirror_mode": {
    "name": "ipython",
    "version": 3
   },
   "file_extension": ".py",
   "mimetype": "text/x-python",
   "name": "python",
   "nbconvert_exporter": "python",
   "pygments_lexer": "ipython3",
   "version": "3.8.8"
  },
  "toc": {
   "base_numbering": 1,
   "nav_menu": {},
   "number_sections": true,
   "sideBar": true,
   "skip_h1_title": false,
   "title_cell": "Table of Contents",
   "title_sidebar": "Contents",
   "toc_cell": false,
   "toc_position": {},
   "toc_section_display": true,
   "toc_window_display": false
  }
 },
 "nbformat": 4,
 "nbformat_minor": 5
}
