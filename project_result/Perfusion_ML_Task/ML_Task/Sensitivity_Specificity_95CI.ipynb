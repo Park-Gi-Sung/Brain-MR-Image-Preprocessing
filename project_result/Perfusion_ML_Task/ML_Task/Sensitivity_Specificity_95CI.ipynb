{
 "cells": [
  {
   "cell_type": "markdown",
   "id": "ff1a29e9",
   "metadata": {},
   "source": [
    "https://gist.github.com/maidens/29939b3383a5e57935491303cf0d8e0b"
   ]
  },
  {
   "cell_type": "code",
   "execution_count": null,
   "id": "fcd45188",
   "metadata": {},
   "outputs": [],
   "source": [
    "import os\n",
    "import time\n",
    "import warnings\n",
    "import graphviz\n",
    "import pydotplus\n",
    "import pandas as pd\n",
    "import numpy as np\n",
    "import seaborn as sns\n",
    "import matplotlib.pyplot as plt\n",
    "from glob import glob\n",
    "\n",
    "\n",
    "from sklearn.linear_model import SGDClassifier\n",
    "from sklearn.linear_model import LogisticRegression\n",
    "\n",
    "from sklearn.svm import SVC\n",
    "\n",
    "from sklearn.tree import DecisionTreeClassifier\n",
    "from sklearn.tree import plot_tree\n",
    "from sklearn.tree import export_graphviz\n",
    "\n",
    "from sklearn.neighbors import KNeighborsClassifier\n",
    "\n",
    "from sklearn.model_selection import cross_val_score\n",
    "from sklearn.model_selection import cross_val_predict\n",
    "from sklearn.model_selection import StratifiedKFold\n",
    "from sklearn.model_selection import GridSearchCV\n",
    "from sklearn.model_selection import cross_validate\n",
    "from sklearn.model_selection import train_test_split\n",
    "\n",
    "from sklearn.metrics import confusion_matrix\n",
    "from sklearn.metrics import precision_score, recall_score, accuracy_score\n",
    "from sklearn.metrics import f1_score, roc_auc_score\n",
    "from sklearn.metrics import roc_curve\n",
    "\n",
    "from sklearn.feature_selection import SelectFromModel\n",
    "from sklearn.feature_selection import VarianceThreshold\n",
    "from sklearn.feature_selection import SelectKBest\n",
    "from sklearn.feature_selection import chi2, f_classif, mutual_info_classif\n",
    "\n",
    "from sklearn.ensemble import ExtraTreesClassifier\n",
    "from sklearn.ensemble import VotingClassifier\n",
    "from sklearn.ensemble import RandomForestClassifier\n",
    "from sklearn.ensemble import GradientBoostingClassifier\n",
    "\n",
    "from sklearn.calibration import CalibratedClassifierCV\n",
    "from sklearn.calibration import calibration_curve\n",
    "\n",
    "from imblearn.over_sampling import SMOTE\n",
    "\n",
    "import xgboost as xgb\n",
    "from xgboost import XGBClassifier\n",
    "\n",
    "import lightgbm\n",
    "from lightgbm import LGBMClassifier\n",
    "from lightgbm import plot_importance\n",
    "\n",
    "import shap"
   ]
  },
  {
   "cell_type": "code",
   "execution_count": null,
   "id": "7a952b28",
   "metadata": {},
   "outputs": [],
   "source": [
    "from __future__ import print_function, division\n",
    "\n",
    "from math import sqrt\n",
    "\n",
    "from scipy.special import ndtri"
   ]
  },
  {
   "cell_type": "code",
   "execution_count": null,
   "id": "c9ad443e",
   "metadata": {},
   "outputs": [],
   "source": [
    "def _proportion_confidence_interval(r, n, z):\n",
    "    \n",
    "    A = 2*r + z**2\n",
    "    B = z*sqrt(z**2 + 4*r*(1 - r/n))\n",
    "    C = 2*(n + z**2)\n",
    "    return ((A-B)/C, (A+B)/C)\n"
   ]
  },
  {
   "cell_type": "code",
   "execution_count": null,
   "id": "8c95f464",
   "metadata": {},
   "outputs": [],
   "source": [
    "def sensitivity_and_specificity_with_confidence_intervals(TP, FP, FN, TN, alpha=0.95):\n",
    "    z = -ndtri((1.0-alpha)/2)\n",
    "    \n",
    "    # Compute sensitivity using method described in [1]\n",
    "    sensitivity_point_estimate = TP/(TP + FN)\n",
    "    sensitivity_confidence_interval = _proportion_confidence_interval(TP, TP + FN, z)\n",
    "    \n",
    "    # Compute specificity using method described in [1]\n",
    "    specificity_point_estimate = TN/(TN + FP)\n",
    "    specificity_confidence_interval = _proportion_confidence_interval(TN, TN + FP, z)\n",
    "    \n",
    "    return sensitivity_point_estimate, specificity_point_estimate, sensitivity_confidence_interval, specificity_confidence_interval"
   ]
  },
  {
   "cell_type": "markdown",
   "id": "c27d0e1c",
   "metadata": {},
   "source": [
    "# Read Excel File"
   ]
  },
  {
   "cell_type": "code",
   "execution_count": null,
   "id": "27953a46",
   "metadata": {},
   "outputs": [],
   "source": [
    "reference_df = pd.read_excel()"
   ]
  },
  {
   "cell_type": "code",
   "execution_count": null,
   "id": "5e817b61",
   "metadata": {},
   "outputs": [],
   "source": [
    "reference_df "
   ]
  },
  {
   "cell_type": "markdown",
   "id": "438ae7d5",
   "metadata": {},
   "source": [
    "# Get Confidence Interval"
   ]
  },
  {
   "cell_type": "code",
   "execution_count": null,
   "id": "1eff5b91",
   "metadata": {},
   "outputs": [],
   "source": [
    "combination_lst = reference_df['combination'].values"
   ]
  },
  {
   "cell_type": "code",
   "execution_count": null,
   "id": "b634fcb5",
   "metadata": {},
   "outputs": [],
   "source": [
    "combination_lst"
   ]
  },
  {
   "cell_type": "code",
   "execution_count": null,
   "id": "1aab9594",
   "metadata": {},
   "outputs": [],
   "source": [
    "reference_df[reference_df['combination'] == 'K12']"
   ]
  },
  {
   "cell_type": "code",
   "execution_count": null,
   "id": "cddcabaa",
   "metadata": {},
   "outputs": [],
   "source": [
    "reference_df[reference_df['combination'] == 'K12']['Sensitivity'].values[0]"
   ]
  },
  {
   "cell_type": "code",
   "execution_count": null,
   "id": "f59bb2f6",
   "metadata": {
    "scrolled": true
   },
   "outputs": [],
   "source": [
    "total = 0\n",
    "total_df = pd.DataFrame()\n",
    "\n",
    "for comb in combination_lst:\n",
    "    total += 1\n",
    "    print('#{} : {}'.format(total, comb))\n",
    "    \n",
    "    # 데이터 뽑아내기\n",
    "    target_df = reference_df[reference_df['combination'] == comb]\n",
    "    original_sensitivity = target_df['Sensitivity'].values[0]\n",
    "    original_specificity = target_df['Specificity'].values[0]\n",
    "    \n",
    "    TN = target_df['Optimal_CutOff_Test_TN'].values[0]\n",
    "    TP = target_df['Optimal_CutOff_Test_TP'].values[0]\n",
    "    FN = target_df['Optimal_CutOff_Test_FN'].values[0]\n",
    "    FP = target_df['Optimal_CutOff_Test_FP'].values[0]\n",
    "    \n",
    "    print('& Original Info')\n",
    "    print(original_sensitivity, original_specificity)\n",
    "    print(TN, FP, FN, TP)\n",
    "    print()\n",
    "    \n",
    "    # 신뢰구간 계산 - Wilson 방식\n",
    "    sensitivity_point_estimate, specificity_point_estimate, sensitivity_confidence_interval, specificity_confidence_interval = sensitivity_and_specificity_with_confidence_intervals(TP, FP, FN, TN, alpha=0.95)\n",
    "    \n",
    "    a = 0.95\n",
    "    print(\"Sensitivity: %f, Specificity: %f\" %(sensitivity_point_estimate, specificity_point_estimate))\n",
    "    print(\"alpha = %f CI for sensitivity:\"%a, sensitivity_confidence_interval)\n",
    "    print(\"alpha = %f CI for specificity:\"%a, specificity_confidence_interval)\n",
    "    print(\"\")   \n",
    "    \n",
    "    # 데이터 프레임 정리\n",
    "    info_dict = dict()\n",
    "\n",
    "    info_dict['Model_Combination'] = comb\n",
    "    info_dict['Sensitivity_wilson'] = [sensitivity_point_estimate]\n",
    "    info_dict['Sensitivity_upper_wilson'] = [sensitivity_confidence_interval[-1]]\n",
    "    info_dict['Sensitivity_lower_wilson'] = [sensitivity_confidence_interval[0]]\n",
    "\n",
    "    info_dict['Specificity_wilson'] = [specificity_point_estimate]\n",
    "    info_dict['Specificity_upper_wilson'] = [specificity_confidence_interval[-1]]\n",
    "    info_dict['Specificity_lower_wilson'] = [specificity_confidence_interval[0]]\n",
    "\n",
    "    info_df = pd.DataFrame(info_dict)\n",
    "\n",
    "    total_df = pd.concat([total_df, info_df])   "
   ]
  },
  {
   "cell_type": "code",
   "execution_count": null,
   "id": "c46fcaeb",
   "metadata": {},
   "outputs": [],
   "source": [
    "total_df"
   ]
  },
  {
   "cell_type": "code",
   "execution_count": null,
   "id": "518481d5",
   "metadata": {},
   "outputs": [],
   "source": []
  }
 ],
 "metadata": {
  "kernelspec": {
   "display_name": "Python 3",
   "language": "python",
   "name": "python3"
  },
  "language_info": {
   "codemirror_mode": {
    "name": "ipython",
    "version": 3
   },
   "file_extension": ".py",
   "mimetype": "text/x-python",
   "name": "python",
   "nbconvert_exporter": "python",
   "pygments_lexer": "ipython3",
   "version": "3.8.8"
  },
  "toc": {
   "base_numbering": 1,
   "nav_menu": {},
   "number_sections": true,
   "sideBar": true,
   "skip_h1_title": false,
   "title_cell": "Table of Contents",
   "title_sidebar": "Contents",
   "toc_cell": false,
   "toc_position": {},
   "toc_section_display": true,
   "toc_window_display": false
  }
 },
 "nbformat": 4,
 "nbformat_minor": 5
}
