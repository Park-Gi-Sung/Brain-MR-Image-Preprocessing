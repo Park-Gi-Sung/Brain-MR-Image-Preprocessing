{
 "cells": [
  {
   "cell_type": "code",
   "execution_count": null,
   "id": "80cc3c7e",
   "metadata": {},
   "outputs": [],
   "source": [
    "# common\n",
    "import os\n",
    "import pandas as pd\n",
    "import numpy as np\n",
    "import seaborn as sns\n",
    "import matplotlib.pyplot as plt\n",
    "from tqdm import tqdm_notebook\n",
    "from datetime import datetime\n",
    "from itertools import product\n",
    "from collections import OrderedDict\n",
    "\n",
    "import shap"
   ]
  },
  {
   "cell_type": "code",
   "execution_count": null,
   "id": "767359d4",
   "metadata": {},
   "outputs": [],
   "source": [
    "# transform\n",
    "from sklearn.model_selection import train_test_split\n",
    "from sklearn.preprocessing import StandardScaler, MinMaxScaler, MaxAbsScaler, QuantileTransformer, PowerTransformer, Normalizer"
   ]
  },
  {
   "cell_type": "code",
   "execution_count": null,
   "id": "7e3b67c3",
   "metadata": {},
   "outputs": [],
   "source": [
    "# selection\n",
    "from sklearn.feature_selection import SelectKBest, f_classif, mutual_info_classif, RFECV, SelectFromModel\n",
    "from sklearn.svm import SVC\n",
    "from sklearn.ensemble import RandomForestClassifier"
   ]
  },
  {
   "cell_type": "code",
   "execution_count": null,
   "id": "c0ee4cf0",
   "metadata": {},
   "outputs": [],
   "source": [
    "# sampling\n",
    "from sklearn.manifold import TSNE\n",
    "from imblearn.over_sampling import RandomOverSampler, SMOTE, BorderlineSMOTE, SMOTENC, ADASYN, RandomOverSampler\n",
    "from imblearn.under_sampling import ClusterCentroids, NeighbourhoodCleaningRule, OneSidedSelection, RandomUnderSampler, NearMiss, EditedNearestNeighbours, RepeatedEditedNearestNeighbours, AllKNN, CondensedNearestNeighbour\n",
    "from imblearn.combine import SMOTEENN, SMOTETomek"
   ]
  },
  {
   "cell_type": "code",
   "execution_count": null,
   "id": "b9d9e1de",
   "metadata": {},
   "outputs": [],
   "source": [
    "# evaluation\n",
    "import sklearn\n",
    "from sklearn.ensemble import RandomForestClassifier, ExtraTreesClassifier\n",
    "from sklearn.model_selection import StratifiedKFold\n",
    "from sklearn.metrics import roc_auc_score, classification_report, roc_curve\n",
    "from sklearn.metrics import confusion_matrix\n",
    "from sklearn.metrics import precision_score, recall_score, accuracy_score, f1_score, roc_auc_score\n",
    "from sklearn.metrics import classification_report\n",
    "from delong import auc_ci"
   ]
  },
  {
   "cell_type": "code",
   "execution_count": null,
   "id": "4c9f89d1",
   "metadata": {},
   "outputs": [],
   "source": [
    "# models\n",
    "from sklearn.ensemble import RandomForestClassifier, ExtraTreesClassifier, AdaBoostClassifier\n",
    "from sklearn.linear_model import LogisticRegression\n",
    "from lightgbm import LGBMClassifier\n",
    "from xgboost import plot_importance\n",
    "#from lightgbm import plot_importance\n",
    "from xgboost import XGBClassifier"
   ]
  },
  {
   "cell_type": "code",
   "execution_count": null,
   "id": "bc593c68",
   "metadata": {},
   "outputs": [],
   "source": [
    "def get_clf_eval(y_test, pred = None, pred_proba = None):\n",
    "    confusion = confusion_matrix(y_test, pred)\n",
    "    accuracy = accuracy_score(y_test, pred)\n",
    "    precision = precision_score(y_test, pred)\n",
    "    recall = recall_score(y_test, pred)\n",
    "    f1 = f1_score(y_test, pred)\n",
    "    \n",
    "    # ROC_AUC 추가\n",
    "    roc_auc = roc_auc_score(y_test, pred_proba)\n",
    "    print('오차 행렬')\n",
    "    print(confusion)\n",
    "    \n",
    "    fp = confusion[0][1]\n",
    "    tn = confusion[0][0]\n",
    "    fn = confusion[1][0]\n",
    "    tp = confusion[1][1]\n",
    "    \n",
    "    specificity = tn / (tn + fp)\n",
    "    \n",
    "    # ROC_AUC print 추가\n",
    "    print('정확도: {:.4f}, 정밀도: {:.4f}, 재현율: {:.4f}, F1: {:.4f}, AUC: {:.4f}'.format(accuracy,precision,recall,f1, roc_auc))\n",
    "    print('특이도(Specificity) : {:.4f}'.format(specificity))\n",
    "    print('TN : {} / TP : {} / FP : {} / FN : {}'.format(tn, tp, fp, fn))"
   ]
  },
  {
   "cell_type": "code",
   "execution_count": null,
   "id": "75a70580",
   "metadata": {},
   "outputs": [],
   "source": [
    "def get_clf_eval_dataframe(model, y_test, pred = None, pred_proba = None):\n",
    "    confusion = confusion_matrix(y_test, pred)\n",
    "    accuracy = accuracy_score(y_test, pred)\n",
    "    precision = precision_score(y_test, pred)\n",
    "    recall = recall_score(y_test, pred)\n",
    "    f1 = f1_score(y_test, pred)\n",
    "    \n",
    "    tn, fp, fn, tp = confusion_matrix(y_test, pred).ravel()\n",
    "    \n",
    "    count_precision = tp / (tp + fp)\n",
    "    print\n",
    "    # ROC_AUC 추가\n",
    "    roc_auc = roc_auc_score(y_test, pred_proba)\n",
    "    print('오차 행렬')\n",
    "    print(confusion)\n",
    "   # ROC_AUC print 추가\n",
    "    print('정확도: {:.4f}, 정밀도: {:.4f}, 재현율: {:.4f}, F1: {:.4f}, AUC: {:.4f}'.format(accuracy,precision,recall,f1, roc_auc))     \n",
    "    print('계산된 정밀도 : {:.4}'.format(count_precision)) \n",
    "    print('tn fp fn tp')\n",
    "    print(tn, fp, fn, tp)\n",
    "    \n",
    "    \n",
    "    delong_roc_auc, (auc_low, auc_high) = auc_ci(y_test.ravel(), pred_proba, return_ci=True)\n",
    "    \n",
    "    model_dict = dict()\n",
    "    model_dict['ROC-AUC'] = roc_auc\n",
    "    model_dict['ROC-AUC(Delong)'] = delong_roc_auc\n",
    "    model_dict['ROC-AUC(95CI_UPPER)'] = auc_high\n",
    "    model_dict['ROC-AUC(95CI_LOWER)'] = auc_low\n",
    "    model_dict['Accuracy'] = accuracy\n",
    "    model_dict['Precision'] = precision\n",
    "    model_dict['Recall'] = recall\n",
    "    model_dict['F1 Score'] = f1\n",
    "\n",
    "\n",
    "    \n",
    "    model_dict['TN'] = tn\n",
    "    model_dict[\"FP\"] = fp\n",
    "    model_dict['FN'] = fn\n",
    "    model_dict['TP'] = tp\n",
    "    \n",
    "    model_df = pd.DataFrame(model_dict, index = [model])\n",
    "    \n",
    "    return model_df"
   ]
  },
  {
   "cell_type": "code",
   "execution_count": null,
   "id": "c098c1ce",
   "metadata": {},
   "outputs": [],
   "source": [
    "train = pd.read_csv(os.path.join(train_test_dir ,'Perfusion_ML_Train_Split-K12(190pts).csv'))\n",
    "test = pd.read_csv(os.path.join(train_test_dir ,'Perfusion_ML_Test_Split-K12(190pts).csv'))"
   ]
  },
  {
   "cell_type": "code",
   "execution_count": null,
   "id": "683300b1",
   "metadata": {},
   "outputs": [],
   "source": [
    "train_index, test_index = train[index_column].reset_index(drop=True), test[index_column].reset_index(drop=True)\n",
    "train_label, test_label   = train[label_column].reset_index(drop=True), test[label_column].reset_index(drop=True)\n",
    "\n",
    "train = train.drop([index_column, label_column], axis=1).reset_index(drop=True)\n",
    "test = test.drop([index_column, label_column], axis=1).reset_index(drop=True)"
   ]
  },
  {
   "cell_type": "code",
   "execution_count": null,
   "id": "99fe947e",
   "metadata": {},
   "outputs": [],
   "source": [
    "scalers = [MinMaxScaler()]\n",
    "selectors = [f_classif]\n",
    "#selectors = [f_classif, mutual_info_classif, RFECV, 'Without_selector']\n",
    "samplers = [SMOTE]\n",
    "classifiers =  [ExtraTreesClassifier]\n",
    "cases = list(product(scalers, selectors, samplers, classifiers))\n",
    "print(len(cases), cases)\n",
    "\n",
    "if type(num_features) == tuple:\n",
    "    min_feature_num = max(min(num_features), 1)\n",
    "    max_feature_num = min(len(train.columns), max(num_features))\n",
    "    total_length = len(cases) * (max_feature_num - min_feature_num)\n",
    "else:\n",
    "    min_feature_num = max(num_features, 1)\n",
    "    max_feature_num = min(len(train.columns), num_features)\n",
    "    total_length = len(cases)"
   ]
  },
  {
   "cell_type": "code",
   "execution_count": null,
   "id": "803b8b10",
   "metadata": {
    "scrolled": true
   },
   "outputs": [],
   "source": [
    "# SEV 데이터로 우선\n",
    "preprocess_dict = preprocessing(train, test, train_label, test_label, cases[0], must_include_features, len(must_include_features))"
   ]
  },
  {
   "cell_type": "code",
   "execution_count": null,
   "id": "5ccf2ee1",
   "metadata": {},
   "outputs": [],
   "source": [
    "sampled_train = preprocess_dict['sampled_train']\n",
    "sampled_train_label = preprocess_dict['sampled_train_label']\n",
    "selected_test = preprocess_dict['selected_test']\n",
    "test_label = preprocess_dict['test_label']\n",
    "clf = preprocess_dict['clf']\n",
    "selected_feature = preprocess_dict['selected_features']"
   ]
  },
  {
   "cell_type": "code",
   "execution_count": null,
   "id": "abf3ab86",
   "metadata": {},
   "outputs": [],
   "source": [
    "# test cohort\n",
    "clf.fit(sampled_train, sampled_train_label)\n",
    "test_predict = clf.predict(selected_test)\n",
    "test_proba = clf.predict_proba(selected_test)[:, 1]"
   ]
  },
  {
   "cell_type": "code",
   "execution_count": null,
   "id": "4b07eaea",
   "metadata": {},
   "outputs": [],
   "source": [
    "get_clf_eval(test_label, test_predict ,test_proba)"
   ]
  },
  {
   "cell_type": "code",
   "execution_count": null,
   "id": "2a83be88",
   "metadata": {},
   "outputs": [],
   "source": [
    "selected_feature"
   ]
  },
  {
   "cell_type": "markdown",
   "id": "2cf2defc",
   "metadata": {},
   "source": [
    "# Shap 그리기"
   ]
  },
  {
   "cell_type": "code",
   "execution_count": null,
   "id": "68388151",
   "metadata": {},
   "outputs": [],
   "source": [
    "shap.initjs()\n",
    "explainer = shap.TreeExplainer(clf)\n",
    "train_shap_values = explainer.shap_values(preprocess_dict['selected_train']) ## 이거는 Sampling 안된 것 - 즉, Original Train\n",
    "### Sampling 된거로 하려면 preprocess_dict['sampled_train_label']\n",
    "test_shap_values = explainer.shap_values(selected_test)"
   ]
  },
  {
   "cell_type": "code",
   "execution_count": null,
   "id": "be227b10",
   "metadata": {},
   "outputs": [],
   "source": [
    "preprocess_dict['selected_train']"
   ]
  },
  {
   "cell_type": "code",
   "execution_count": null,
   "id": "d9158894",
   "metadata": {
    "scrolled": true
   },
   "outputs": [],
   "source": [
    "selected_test"
   ]
  },
  {
   "cell_type": "markdown",
   "id": "661fe58d",
   "metadata": {},
   "source": [
    "## Summary Plot - Bar"
   ]
  },
  {
   "cell_type": "markdown",
   "id": "4d9eda40",
   "metadata": {},
   "source": [
    "### Train"
   ]
  },
  {
   "cell_type": "code",
   "execution_count": null,
   "id": "8c4dadc7",
   "metadata": {},
   "outputs": [],
   "source": [
    "selected_feature"
   ]
  },
  {
   "cell_type": "code",
   "execution_count": null,
   "id": "df3284be",
   "metadata": {},
   "outputs": [],
   "source": [
    "train_feature_name_clean = ['KtransMap_firstorder_10Percentile',\n",
    "                       'KtransMap_glcm_Correlation',\n",
    "                      'KtransMap_glcm_MCC',\n",
    "                     'KtransMap_gldm_DependenceVariance']\n",
    "## 중요한거는 위에 데이터 프레임에 있는 Feature 순서대로 가기"
   ]
  },
  {
   "cell_type": "code",
   "execution_count": null,
   "id": "48ef24a9",
   "metadata": {},
   "outputs": [],
   "source": [
    "np.array(train_shap_values[0]).shape ## 하나의 class 만 뽑아내기"
   ]
  },
  {
   "cell_type": "code",
   "execution_count": null,
   "id": "c3ed7ad6",
   "metadata": {},
   "outputs": [],
   "source": [
    "# 수정 전\n",
    "shap.summary_plot(train_shap_values, preprocess_dict['selected_train'],plot_type= 'bar' ,auto_size_plot= None, plot_size= (13, 8) , show= False)\n",
    "plt.tight_layout()\n",
    "plt.title('SHAP Summary Plot - Train(Model K12)', fontsize = 17)\n",
    "# plt.legend(loc='lower right', fontsize = 12)\n",
    "plt.show()"
   ]
  },
  {
   "cell_type": "code",
   "execution_count": null,
   "id": "21739315",
   "metadata": {},
   "outputs": [],
   "source": [
    "# 수정 후\n",
    "shap.summary_plot(train_shap_values[0], preprocess_dict['selected_train'],feature_names = feature_name_clean,plot_type= 'bar' ,auto_size_plot= None, plot_size= (13, 8) , show= False)\n",
    "plt.tight_layout()\n",
    "plt.title('SHAP Summary Plot - Train(Model KtransMap)', fontsize = 17)\n",
    "# plt.legend(loc='lower right', fontsize = 12)\n",
    "plt.show()"
   ]
  },
  {
   "cell_type": "markdown",
   "id": "10f0c3bb",
   "metadata": {},
   "source": [
    "### Test"
   ]
  },
  {
   "cell_type": "code",
   "execution_count": null,
   "id": "be6981c1",
   "metadata": {},
   "outputs": [],
   "source": [
    "shap.summary_plot(test_shap_values, selected_test,plot_type= 'bar' ,auto_size_plot= None, plot_size= (13, 8) , show= False)\n",
    "plt.tight_layout()\n",
    "plt.title('SHAP Summary Plot - Test(Model K12)', fontsize = 17)\n",
    "# plt.legend(loc='lower right', fontsize = 12)\n",
    "plt.show()"
   ]
  },
  {
   "cell_type": "code",
   "execution_count": null,
   "id": "a05a3bc5",
   "metadata": {},
   "outputs": [],
   "source": [
    "# 수정 후\n",
    "shap.summary_plot(test_shap_values[0], selected_test,feature_names = feature_name_clean,plot_type= 'bar' ,auto_size_plot= None, plot_size= (13, 8) , show= False)\n",
    "plt.tight_layout()\n",
    "plt.title('SHAP Summary Plot - Test(Model KtransMap)', fontsize = 17)\n",
    "# plt.legend(loc='lower right', fontsize = 12)\n",
    "plt.show()"
   ]
  },
  {
   "cell_type": "markdown",
   "id": "d4c3df60",
   "metadata": {},
   "source": [
    "## Summary Plot - Dot"
   ]
  },
  {
   "cell_type": "markdown",
   "id": "f12cbb51",
   "metadata": {},
   "source": [
    "### Train"
   ]
  },
  {
   "cell_type": "code",
   "execution_count": null,
   "id": "4a8f0343",
   "metadata": {},
   "outputs": [],
   "source": [
    "shap.summary_plot(train_shap_values[1], preprocess_dict['selected_train'],plot_type= 'dot' ,auto_size_plot= None, plot_size= (13, 8) , show= False)\n",
    "plt.tight_layout()\n",
    "plt.title('SHAP Summary Plot - Train(Model K12)', fontsize = 17)\n",
    "# plt.legend(loc='lower right', fontsize = 12)\n",
    "plt.show()"
   ]
  },
  {
   "cell_type": "markdown",
   "id": "0e72abdf",
   "metadata": {},
   "source": [
    "### Test"
   ]
  },
  {
   "cell_type": "code",
   "execution_count": null,
   "id": "0d17b291",
   "metadata": {},
   "outputs": [],
   "source": [
    "shap.summary_plot(test_shap_values[1], selected_test,plot_type= 'dot' ,auto_size_plot= None, plot_size= (13, 8) , show= False)\n",
    "plt.tight_layout()\n",
    "plt.title('SHAP Summary Plot - Test(Model K12)', fontsize = 17)\n",
    "# plt.legend(loc='lower right', fontsize = 12)\n",
    "plt.show()"
   ]
  },
  {
   "cell_type": "markdown",
   "id": "6f341423",
   "metadata": {},
   "source": [
    "## Decision Plot"
   ]
  },
  {
   "cell_type": "code",
   "execution_count": null,
   "id": "fde84940",
   "metadata": {},
   "outputs": [],
   "source": [
    "explainer.expected_value"
   ]
  },
  {
   "cell_type": "markdown",
   "id": "819bef42",
   "metadata": {},
   "source": [
    "### Train"
   ]
  },
  {
   "cell_type": "code",
   "execution_count": null,
   "id": "e842c252",
   "metadata": {},
   "outputs": [],
   "source": [
    "# Pos 기준\n",
    "plt.figure(figsize= (12,8))\n",
    "shap.decision_plot( explainer.expected_value[1], train_shap_values[1], preprocess_dict['selected_train'], auto_size_plot= None, show= False)\n",
    "plt.tight_layout()\n",
    "#plt.legend(loc='lower right', fontsize = 12)\n",
    "plt.title('SHAP Decision Plot - Train(Model K12)', fontsize = 15)\n",
    "plt.show()"
   ]
  },
  {
   "cell_type": "code",
   "execution_count": null,
   "id": "588c851d",
   "metadata": {},
   "outputs": [],
   "source": [
    "np.array(train_shap_values)[1].shape"
   ]
  },
  {
   "cell_type": "markdown",
   "id": "3d0d090a",
   "metadata": {},
   "source": [
    "### Test"
   ]
  },
  {
   "cell_type": "code",
   "execution_count": null,
   "id": "78f73f1b",
   "metadata": {},
   "outputs": [],
   "source": [
    "# Pos 기준\n",
    "plt.figure(figsize= (12,8))\n",
    "shap.decision_plot( explainer.expected_value[1], test_shap_values[1], selected_test, auto_size_plot= None, show= False)\n",
    "plt.tight_layout()\n",
    "#plt.legend(loc='lower right', fontsize = 12)\n",
    "plt.title('SHAP Decision Plot - Test(Model K12)', fontsize = 15)\n",
    "plt.show()"
   ]
  },
  {
   "cell_type": "markdown",
   "id": "db452d0b",
   "metadata": {},
   "source": [
    "## Dependence Plot"
   ]
  },
  {
   "cell_type": "markdown",
   "id": "7fe49372",
   "metadata": {},
   "source": [
    "### Train"
   ]
  },
  {
   "cell_type": "code",
   "execution_count": null,
   "id": "d91edb0a",
   "metadata": {
    "scrolled": false
   },
   "outputs": [],
   "source": [
    "shap.initjs()\n",
    "# 총 13개 특성의 Shapley value를 절댓값 변환 후 각 특성마다 더함 -> np.argsort()는 작은 순서대로 정렬, 큰 순서대로 정렬하려면\n",
    "# 앞에 마이너스(-) 기호를 붙임\n",
    "top_inds = np.argsort(-np.sum(np.abs(train_shap_values[1]), 0))\n",
    "\n",
    "# 영향력 Feature 4개 순서대로 컬럼\n",
    "for i in range(4):\n",
    "    shap.dependence_plot(top_inds[i], train_shap_values[1], preprocess_dict['selected_train'])"
   ]
  },
  {
   "cell_type": "markdown",
   "id": "ad3ffbc0",
   "metadata": {},
   "source": [
    "### Test"
   ]
  },
  {
   "cell_type": "code",
   "execution_count": null,
   "id": "bf332c5c",
   "metadata": {
    "scrolled": false
   },
   "outputs": [],
   "source": [
    "shap.initjs()\n",
    "# 총 13개 특성의 Shapley value를 절댓값 변환 후 각 특성마다 더함 -> np.argsort()는 작은 순서대로 정렬, 큰 순서대로 정렬하려면\n",
    "# 앞에 마이너스(-) 기호를 붙임\n",
    "top_inds = np.argsort(-np.sum(np.abs(test_shap_values[1]), 0))\n",
    "\n",
    "# 영향력 Feature 5개 순서대로 컬럼\n",
    "for i in range(4):\n",
    "    shap.dependence_plot(top_inds[i], test_shap_values[1], selected_test)"
   ]
  },
  {
   "cell_type": "code",
   "execution_count": null,
   "id": "e46becb5",
   "metadata": {},
   "outputs": [],
   "source": []
  }
 ],
 "metadata": {
  "kernelspec": {
   "display_name": "Python 3",
   "language": "python",
   "name": "python3"
  },
  "language_info": {
   "codemirror_mode": {
    "name": "ipython",
    "version": 3
   },
   "file_extension": ".py",
   "mimetype": "text/x-python",
   "name": "python",
   "nbconvert_exporter": "python",
   "pygments_lexer": "ipython3",
   "version": "3.8.8"
  },
  "toc": {
   "base_numbering": 1,
   "nav_menu": {},
   "number_sections": true,
   "sideBar": true,
   "skip_h1_title": false,
   "title_cell": "Table of Contents",
   "title_sidebar": "Contents",
   "toc_cell": false,
   "toc_position": {},
   "toc_section_display": true,
   "toc_window_display": false
  }
 },
 "nbformat": 4,
 "nbformat_minor": 5
}
