{
 "cells": [
  {
   "cell_type": "code",
   "execution_count": null,
   "metadata": {},
   "outputs": [],
   "source": [
    "import SimpleITK as sitk\n",
    "import nibabel as nib\n",
    "import pandas as pd\n",
    "import numpy as np\n",
    "import os\n",
    "from glob import glob\n",
    "from tqdm import tqdm_notebook\n",
    "import matplotlib.pyplot as plt"
   ]
  },
  {
   "cell_type": "markdown",
   "metadata": {},
   "source": [
    "# Seperate dsc / dce"
   ]
  },
  {
   "cell_type": "code",
   "execution_count": null,
   "metadata": {},
   "outputs": [],
   "source": [
    "## Perfusion 이미지가 저장된 공간\n",
    "srcDir  = '/home/sc-mlsg/Downloads/preprocessing_data_platform/perfusion/Real_Extract/set_40/original_data/target_img'\n",
    "\n",
    "## 분리한 3차원 이미지를 저장할 공간\n",
    "destDir = '/home/sc-mlsg/Downloads/preprocessing_data_platform/perfusion/Real_Extract/set_40/preprocessing_data/target_img_seperate'\n",
    "os.makedirs(destDir, exist_ok = True)"
   ]
  },
  {
   "cell_type": "code",
   "execution_count": null,
   "metadata": {
    "scrolled": true
   },
   "outputs": [],
   "source": [
    "total = 0\n",
    "for (path, dirs, files) in os.walk(srcDir):\n",
    "    if files:\n",
    "        total += 1\n",
    "        pt = os.path.basename(path)\n",
    "        print(\"# {} : seperate img in {}\".format(total, pt))\n",
    "        \n",
    "        \n",
    "        \n",
    "        for file in files:\n",
    "            seq = file.split('.')[0].split('_')[-1]\n",
    "            print(\"- {} is sperating now....\".format(seq))\n",
    "            \n",
    "            file_path = os.path.join(path, file)\n",
    "            \n",
    "            # 이미지 불러오기\n",
    "            img = sitk.ReadImage(file_path)\n",
    "            img_data = sitk.GetArrayFromImage(img)\n",
    "            print(img.GetSize())\n",
    "            \n",
    "            print(img.GetSpacing())\n",
    "            print(img.GetOrigin())\n",
    "            print(np.array(img.GetDirection()).reshape(4,4))\n",
    "            \n",
    "            # set 3D info - 4차원 정보들 중 3차원 정보에 해당하는 부분만 추출하여 분리된 3차원 이미지에 입혀주기\n",
    "            origin_spacing = img.GetSpacing()[:3]\n",
    "            origin_origin = img.GetOrigin()[:3]\n",
    "            origin_direction = np.array(img.GetDirection()).reshape(4,4)[:3, :3].ravel(order = 'C')\n",
    "            \n",
    "            print(origin_spacing)\n",
    "            print(origin_origin)\n",
    "            print(origin_direction.reshape(3,3))\n",
    "            \n",
    "            # make path\n",
    "            seq_dir = os.path.join(destDir, pt, seq)\n",
    "            os.makedirs(seq_dir, exist_ok = True)\n",
    "            \n",
    "            # 하나의 Perfusion 영상에서 시간축으로 이어붙여진 3차원 영상을 하나씩 분리하는 과정\n",
    "            check = 0\n",
    "            for slice  in img_data:\n",
    "                check += 1\n",
    "                new_file_name = '{}_{}_{}.nii.gz'.format(check, pt, seq)\n",
    "                final_path = os.path.join(seq_dir, new_file_name)\n",
    "                print(check, slice.shape, new_file_name)\n",
    "                \n",
    "                \n",
    "                if os.path.exists(final_path):\n",
    "                    print(\"File already exists!!\")\n",
    "                    continue\n",
    "                               \n",
    "                slice_img = sitk.GetImageFromArray(slice)\n",
    "                \n",
    "                slice_img.SetOrigin(origin_origin)\n",
    "                slice_img.SetDirection(origin_direction)\n",
    "                slice_img.SetSpacing(origin_spacing)\n",
    "                \n",
    "                sitk.WriteImage(slice_img , final_path)\n",
    "                          \n",
    "            \n",
    "            print()\n",
    "        print()"
   ]
  },
  {
   "cell_type": "markdown",
   "metadata": {},
   "source": [
    "# Co-registration each img"
   ]
  },
  {
   "cell_type": "code",
   "execution_count": null,
   "metadata": {},
   "outputs": [],
   "source": [
    "## 분리된 Perfusion 영상들이 저장되어 있는 곳\n",
    "srcDir  = '/home/sc-mlsg/Downloads/preprocessing_data_platform/perfusion/Real_Extract/set_40/preprocessing_data/target_img_seperate'\n",
    "\n",
    "## Co-Registartion 한 Perfusion 영상을 저장할 곳\n",
    "destDir = '/home/sc-mlsg/Downloads/preprocessing_data_platform/perfusion/Real_Extract/set_40/preprocessing_data/target_img_seperate_registration'\n",
    "os.makedirs(destDir, exist_ok = True)\n",
    "\n",
    "## Co-Registration을 하기 위해 Reference로 삼을 영상이 저장된 곳(MASK를 얻기 위해 사용한 영상)\n",
    "CT1_Dir = '/home/sc-mlsg/Downloads/preprocessing_data_platform/perfusion/Real_Extract/set_40/preprocessing_data/CT1_resample'"
   ]
  },
  {
   "cell_type": "code",
   "execution_count": null,
   "metadata": {},
   "outputs": [],
   "source": [
    "pt_lst = os.listdir(srcDir)\n",
    "pt_lst = sorted([int(pt) for pt in pt_lst])\n",
    "pt_lst = [str(pt) for pt in pt_lst]\n",
    "pt_lst"
   ]
  },
  {
   "cell_type": "code",
   "execution_count": null,
   "metadata": {
    "scrolled": true
   },
   "outputs": [],
   "source": [
    "## ANTS-Coregistartion을 이용하였습니다.\n",
    "\n",
    "total = 0\n",
    "for (path, dirs, files) in os.walk(srcDir):\n",
    "    if files:\n",
    "        total += 1\n",
    "        seq = os.path.basename(path)\n",
    "        pt = path.split(os.path.sep)[-2] \n",
    "        print(\"# {} : seperate img in pt: {} / seq : {}\".format(total, pt, seq))\n",
    "        \n",
    "        # Reference 영상을 불러오기\n",
    "        CT1_path = glob(os.path.join(CT1_Dir, '*{}*'.format(pt)))\n",
    "        \n",
    "        if len(CT1_path) != 1:\n",
    "            print(\"Something wrong in CT1!!\")\n",
    "            print()\n",
    "            continue\n",
    "        \n",
    "        print(CT1_path)\n",
    "        CT1_path = CT1_path[0]\n",
    "        \n",
    "        \n",
    "        seq_dir = os.path.join(destDir, pt, seq)\n",
    "        os.makedirs(seq_dir, exist_ok = True)\n",
    "        \n",
    "        # 분리된 Perfusion 영상을 Reference에 각각 Co-Registration 하기\n",
    "        check = 0\n",
    "        for file in sorted(files):\n",
    "            check += 1\n",
    "            file_name = file.split('.')[0]\n",
    "            in_path = os.path.join(path, file)\n",
    "            \n",
    "            new_file_name = '{}_registered.nii.gz'.format(file_name)\n",
    "            print(check, new_file_name)\n",
    "            \n",
    "            outPath = os.path.join(seq_dir, new_file_name)\n",
    "            \n",
    "            if os.path.exists(outPath):\n",
    "                print(\"File already exists!!\")\n",
    "                continue\n",
    "                \n",
    "                        \n",
    "            !antsRegistration -d 3 -r [{CT1_path}, {in_path}, 1] \\\n",
    "                      -m mattes[{CT1_path}, {in_path}, 1, 32, regular, 0.1 ] \\\n",
    "                      -t translation[0.1] -c [100x50x25,1.e-8,20] -s 4x2x1vox -f 6x4x2 -l 1 \\\n",
    "                      -m mattes[{CT1_path}, {in_path} , 1 , 32, regular, 0.1] \\\n",
    "                      -t rigid[0.1] -c [100x50x25,1.e-8,20]  -s 4x2x1vox  -f 3x2x1 -l 1 -o [reg, {outPath}] -v 0\n",
    "        \n",
    "        \n",
    "        \n",
    "        print()"
   ]
  }
 ],
 "metadata": {
  "kernelspec": {
   "display_name": "Python 3",
   "language": "python",
   "name": "python3"
  },
  "language_info": {
   "codemirror_mode": {
    "name": "ipython",
    "version": 3
   },
   "file_extension": ".py",
   "mimetype": "text/x-python",
   "name": "python",
   "nbconvert_exporter": "python",
   "pygments_lexer": "ipython3",
   "version": "3.8.8"
  },
  "toc": {
   "base_numbering": 1,
   "nav_menu": {},
   "number_sections": true,
   "sideBar": true,
   "skip_h1_title": false,
   "title_cell": "Table of Contents",
   "title_sidebar": "Contents",
   "toc_cell": false,
   "toc_position": {},
   "toc_section_display": true,
   "toc_window_display": false
  }
 },
 "nbformat": 4,
 "nbformat_minor": 4
}
