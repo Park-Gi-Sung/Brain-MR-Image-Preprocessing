{
 "cells": [
  {
   "cell_type": "code",
   "execution_count": null,
   "metadata": {},
   "outputs": [],
   "source": [
    "import os\n",
    "import shutil\n",
    "import nibabel as nib\n",
    "import numpy as np\n",
    "from glob import glob\n",
    "from tqdm import tqdm_notebook"
   ]
  },
  {
   "cell_type": "code",
   "execution_count": null,
   "metadata": {},
   "outputs": [],
   "source": [
    "#CT1 resampling"
   ]
  },
  {
   "cell_type": "code",
   "execution_count": null,
   "metadata": {},
   "outputs": [],
   "source": [
    "srcpath = '/home/sc-mlsg/Downloads/preprocessing_data_platform/perfusion/Real_Extract/set_25/original_data'\n",
    "dest_dir = '/home/sc-mlsg/Downloads/preprocessing_data_platform/perfusion/Real_Extract/set_25/preprocessing_data/CT1_resample'\n",
    "os.makedirs(dest_dir, exist_ok = True)\n",
    "os.makedirs(srcpath, exist_ok = True)"
   ]
  },
  {
   "cell_type": "code",
   "execution_count": null,
   "metadata": {},
   "outputs": [],
   "source": [
    "srcpath = '/home/sc-mlsg/Downloads/preprocessing_data_platform/perfusion/Real_Extract/set_40/original_data/CT1'\n",
    "for (path, dirs, files) in os.walk(srcpath):\n",
    "    print(path, dirs, files)"
   ]
  },
  {
   "cell_type": "code",
   "execution_count": null,
   "metadata": {},
   "outputs": [],
   "source": [
    "total = 0\n",
    "\n",
    "for (path, dirs, files) in os.walk(srcpath):\n",
    "    for file in sorted(files):\n",
    "        total += 1\n",
    "        print(total, file)\n",
    "        in_path = os.path.join(path, file)\n",
    "        \n",
    "        \n",
    "        file_name = file.split('.')[0]\n",
    "        new_filename = \"{}_resample.nii.gz\".format(file_name)\n",
    "        print(new_filename)\n",
    "        print()\n",
    "        \n",
    "        outPath = os.path.join(dest_dir, new_filename)\n",
    "        \n",
    "        if os.path.exists(outPath):\n",
    "            print(\"File already exists!!\")\n",
    "            continue\n",
    "            \n",
    "        !ResampleImage 3 {in_path} {outPath} 1x1x1\n",
    "            "
   ]
  },
  {
   "cell_type": "markdown",
   "metadata": {},
   "source": [
    "# mask_resampling"
   ]
  },
  {
   "cell_type": "code",
   "execution_count": null,
   "metadata": {},
   "outputs": [],
   "source": [
    "dest_dir = '/home/sc-mlsg/Downloads/preprocessing_data_platform/perfusion/Real_Extract/set_25/preprocessing_data/mask_resample'\n",
    "os.makedirs(dest_dir, exist_ok = True)"
   ]
  },
  {
   "cell_type": "code",
   "execution_count": null,
   "metadata": {
    "scrolled": true
   },
   "outputs": [],
   "source": [
    "srcpath = '/home/sc-mlsg/Downloads/preprocessing_data_platform/perfusion/Real_Extract/set_25/original_data/mask'\n",
    "for (path, dirs, files) in os.walk(srcpath):\n",
    "    print(path, dirs, files)"
   ]
  },
  {
   "cell_type": "markdown",
   "metadata": {},
   "source": [
    "====================== check label"
   ]
  },
  {
   "cell_type": "code",
   "execution_count": null,
   "metadata": {
    "scrolled": true
   },
   "outputs": [],
   "source": [
    "total = 0\n",
    "\n",
    "for (path, dirs, files) in os.walk(srcpath):\n",
    "    if files:\n",
    "        total += 1\n",
    "        pt = os.path.basename(path)\n",
    "        print(\"# {} : resample mask {}\".format(total, pt))\n",
    "        pt_dir = os.path.join(dest_dir, pt)\n",
    "        os.makedirs(pt_dir, exist_ok = True)\n",
    "        \n",
    "        \n",
    "        for file in sorted(files):\n",
    "            print(file)\n",
    "            in_path = os.path.join(path,file)\n",
    "\n",
    "            img = nib.load(in_path)\n",
    "            img_data = img.get_fdata()\n",
    "            \n",
    "            print(np.unique(img_data, return_counts= True))\n",
    "            print()\n",
    "        \n",
    "        print()"
   ]
  },
  {
   "cell_type": "markdown",
   "metadata": {},
   "source": [
    "=================================="
   ]
  },
  {
   "cell_type": "markdown",
   "metadata": {},
   "source": [
    "All label's components are zero and one"
   ]
  },
  {
   "cell_type": "code",
   "execution_count": null,
   "metadata": {
    "scrolled": true
   },
   "outputs": [],
   "source": [
    "total = 0\n",
    "\n",
    "for (path, dirs, files) in os.walk(srcpath):\n",
    "    if files:\n",
    "        total += 1\n",
    "        pt = os.path.basename(path)\n",
    "        print(\"# {} : resample mask {}\".format(total, pt))\n",
    "        pt_dir = os.path.join(dest_dir, pt)\n",
    "        os.makedirs(pt_dir, exist_ok = True)\n",
    "        \n",
    "        \n",
    "        for file in sorted(files):\n",
    "            print(file)\n",
    "            in_path = os.path.join(path,file)\n",
    "\n",
    "            new_filename = \"{}_resample.nii.gz\".format(file.split('.')[0])\n",
    "            print(new_filename)\n",
    "\n",
    "            outPath = os.path.join(pt_dir, new_filename)\n",
    "\n",
    "            if os.path.exists(outPath):\n",
    "                print(\"File already exists!!\")\n",
    "                continue\n",
    "\n",
    "            !ResampleImage 3 {in_path} {outPath} 1x1x1\n",
    "        \n",
    "        print()"
   ]
  },
  {
   "cell_type": "markdown",
   "metadata": {},
   "source": [
    "# make clean mask"
   ]
  },
  {
   "cell_type": "code",
   "execution_count": null,
   "metadata": {},
   "outputs": [],
   "source": [
    "dest_dir = '/home/sc-mlsg/Downloads/preprocessing_data_platform/perfusion/Real_Extract/set_25/preprocessing_data/mask_resample_clean'\n",
    "os.makedirs(dest_dir, exist_ok = True)"
   ]
  },
  {
   "cell_type": "code",
   "execution_count": null,
   "metadata": {
    "scrolled": true
   },
   "outputs": [],
   "source": [
    "srcpath =  '/home/sc-mlsg/Downloads/preprocessing_data_platform/perfusion/Real_Extract/set_25/preprocessing_data/mask_resample'\n",
    "for (path, dirs, files) in os.walk(srcpath):\n",
    "    print(path, dirs, files)"
   ]
  },
  {
   "cell_type": "markdown",
   "metadata": {},
   "source": [
    "================= check resample mask"
   ]
  },
  {
   "cell_type": "code",
   "execution_count": null,
   "metadata": {
    "scrolled": true
   },
   "outputs": [],
   "source": [
    "total = 0\n",
    "\n",
    "for (path, dirs, files) in os.walk(srcpath):\n",
    "    if files:\n",
    "        total += 1\n",
    "        pt = os.path.basename(path)\n",
    "        print(\"# {} : resample mask {}\".format(total, pt))\n",
    "        pt_dir = os.path.join(dest_dir, pt)\n",
    "        os.makedirs(pt_dir, exist_ok = True)\n",
    "        \n",
    "        \n",
    "        for file in files:\n",
    "            print(file)\n",
    "            in_path = os.path.join(path,file)\n",
    "            \n",
    "            mask_img = nib.load(in_path)\n",
    "            mask_img_data = mask_img.get_fdata()\n",
    "            \n",
    "            print(np.unique(mask_img_data , return_counts = True))\n",
    "            for i in np.unique(mask_img_data):\n",
    "                print(i)\n",
    "            \n",
    "        print()"
   ]
  },
  {
   "cell_type": "markdown",
   "metadata": {},
   "source": [
    "==========================="
   ]
  },
  {
   "cell_type": "code",
   "execution_count": null,
   "metadata": {
    "scrolled": true
   },
   "outputs": [],
   "source": [
    "total = 0\n",
    "\n",
    "for (path, dirs, files) in os.walk(srcpath):\n",
    "    if files:\n",
    "        total += 1\n",
    "        pt = os.path.basename(path)\n",
    "        print(\"# {} : resample mask {}\".format(total, pt))\n",
    "        pt_dir = os.path.join(dest_dir, pt)\n",
    "        os.makedirs(pt_dir, exist_ok = True)\n",
    "        \n",
    "        \n",
    "        for file in files:\n",
    "            print(file)\n",
    "            in_path = os.path.join(path,file)\n",
    "            \n",
    "            mask_img = nib.load(in_path)\n",
    "            mask_img_data = mask_img.get_fdata()\n",
    "            \n",
    "            new_mask_data = np.where(mask_img_data > 0.5 , 1, 0).astype('uint8')\n",
    "            print(new_mask_data.dtype)\n",
    "            print(np.unique(new_mask_data , return_counts= True))\n",
    "            \n",
    "            new_mask = nib.Nifti1Image(new_mask_data , mask_img.affine, mask_img.header)\n",
    "            new_mask.header.set_data_dtype(np.uint8)\n",
    "\n",
    "            new_filename = \"{}_clean.nii.gz\".format(file.split('.')[0])\n",
    "            print(new_filename)\n",
    "            print()\n",
    "\n",
    "            outPath = os.path.join(pt_dir, new_filename)\n",
    "\n",
    "            if os.path.exists(outPath):\n",
    "                print(\"File already exists!!\")\n",
    "                continue\n",
    "            \n",
    "            nib.save(new_mask, outPath)\n",
    "            \n",
    "        print()"
   ]
  },
  {
   "cell_type": "markdown",
   "metadata": {},
   "source": [
    "check if there is no labeling....label_2"
   ]
  },
  {
   "cell_type": "markdown",
   "metadata": {},
   "source": [
    "# Shape check CT1 & mask"
   ]
  },
  {
   "cell_type": "code",
   "execution_count": null,
   "metadata": {},
   "outputs": [],
   "source": [
    "CT1_dir = '/home/sc-mlsg/Downloads/preprocessing_data_platform/perfusion/Real_Extract/set_25/preprocessing_data/CT1_resample'\n",
    "mask_dir = '/home/sc-mlsg/Downloads/preprocessing_data_platform/perfusion/Real_Extract/set_25/preprocessing_data/mask_resample_clean' "
   ]
  },
  {
   "cell_type": "code",
   "execution_count": null,
   "metadata": {},
   "outputs": [],
   "source": [
    "pt_lst = os.listdir(mask_dir)\n",
    "pt_lst = sorted([int(pt) for pt in pt_lst])\n",
    "pt_lst = [str(pt) for pt in pt_lst]\n",
    "pt_lst"
   ]
  },
  {
   "cell_type": "code",
   "execution_count": null,
   "metadata": {
    "scrolled": true
   },
   "outputs": [],
   "source": [
    "total = 0\n",
    "\n",
    "for pt in pt_lst:\n",
    "    total += 1\n",
    "    print(\"# {} : check in {}\".format(total, pt))\n",
    "    \n",
    "    CT1_path = glob(os.path.join(CT1_dir, \"*{}*\".format(pt)))\n",
    "    mask_1_path = glob(os.path.join(mask_dir, pt, '*label_1*'))\n",
    "    mask_2_path = glob(os.path.join(mask_dir, pt, '*label_2*'))\n",
    "    \n",
    "    print(CT1_path)\n",
    "    print(mask_1_path)\n",
    "    print(mask_2_path)\n",
    "    \n",
    "    if len(CT1_path) != 1:\n",
    "        print(\"There is no CT1....\")\n",
    "        \n",
    "    if len(mask_1_path) != 1:\n",
    "        print(\"There is no label 1....\")\n",
    "        \n",
    "        \n",
    "    if len(mask_2_path) != 1:\n",
    "        print(\"There is no label 2....\")\n",
    "        \n",
    "        \n",
    "    total_lst = CT1_path + mask_1_path + mask_2_path\n",
    "    print()\n",
    "#     print(total_lst)\n",
    "    \n",
    "    for file in total_lst:\n",
    "        img = nib.load(file)\n",
    "        print(\"check in {} : {}\".format(os.path.basename(file), img.shape))\n",
    "        # print(img.header)\n",
    "        \n",
    "    print()\n",
    "    \n",
    "    \n",
    "    "
   ]
  },
  {
   "cell_type": "code",
   "execution_count": null,
   "metadata": {},
   "outputs": [],
   "source": []
  }
 ],
 "metadata": {
  "kernelspec": {
   "display_name": "Python 3",
   "language": "python",
   "name": "python3"
  },
  "language_info": {
   "codemirror_mode": {
    "name": "ipython",
    "version": 3
   },
   "file_extension": ".py",
   "mimetype": "text/x-python",
   "name": "python",
   "nbconvert_exporter": "python",
   "pygments_lexer": "ipython3",
   "version": "3.8.8"
  },
  "toc": {
   "base_numbering": 1,
   "nav_menu": {},
   "number_sections": true,
   "sideBar": true,
   "skip_h1_title": false,
   "title_cell": "Table of Contents",
   "title_sidebar": "Contents",
   "toc_cell": false,
   "toc_position": {},
   "toc_section_display": true,
   "toc_window_display": false
  }
 },
 "nbformat": 4,
 "nbformat_minor": 4
}
