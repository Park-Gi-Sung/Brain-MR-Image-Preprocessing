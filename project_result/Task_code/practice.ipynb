{
 "cells": [
  {
   "cell_type": "markdown",
   "id": "04d75fcb",
   "metadata": {},
   "source": [
    "# glob() 라이브러리"
   ]
  },
  {
   "cell_type": "code",
   "execution_count": 36,
   "id": "1a848440",
   "metadata": {},
   "outputs": [],
   "source": [
    "from glob import glob\n",
    "import os \n",
    "import pandas as pd\n",
    "\n",
    "label = 'T1'\n",
    "path = 'C:\\\\Users\\\\pks98\\\\project_task\\\\project_result\\\\Meningioma_nii\\\\7040064'\n",
    "d = glob(os.path.join(path, '*{}*'.format(label)))[0]\n",
    "c = glob('C:\\\\Users\\\\pks98\\\\project_task\\\\project_result\\\\Meningioma_nii\\\\7040064\\\\*')\n",
    "e = glob('*') ## 현재 디렉에 있는 파일이랑 디렉 추출\n",
    "f = glob('C:\\\\Users\\\\pks98\\\\project_task\\\\project_result\\\\Meningioma_nii\\\\7040064\\\\7*')\n",
    "### 7로 시작하고 뒤에 암것도 없는거\n",
    "t = glob('C:\\\\Users\\\\pks98\\\\project_task\\\\project_result\\\\Meningioma_nii\\\\7040064\\\\8*')"
   ]
  },
  {
   "cell_type": "code",
   "execution_count": 37,
   "id": "fbb805c6",
   "metadata": {},
   "outputs": [
    {
     "data": {
      "text/plain": [
       "'C:\\\\Users\\\\pks98\\\\project_task\\\\project_result\\\\Meningioma_nii\\\\7040064\\\\7040064_T1C.nii.gz'"
      ]
     },
     "execution_count": 37,
     "metadata": {},
     "output_type": "execute_result"
    }
   ],
   "source": [
    "d"
   ]
  },
  {
   "cell_type": "code",
   "execution_count": 38,
   "id": "3136c9bc",
   "metadata": {},
   "outputs": [
    {
     "data": {
      "text/plain": [
       "['C:\\\\Users\\\\pks98\\\\project_task\\\\project_result\\\\Meningioma_nii\\\\7040064\\\\7040064_T1C.nii.gz',\n",
       " 'C:\\\\Users\\\\pks98\\\\project_task\\\\project_result\\\\Meningioma_nii\\\\7040064\\\\7040064_T2.nii.gz']"
      ]
     },
     "execution_count": 38,
     "metadata": {},
     "output_type": "execute_result"
    }
   ],
   "source": [
    "c"
   ]
  },
  {
   "cell_type": "code",
   "execution_count": 39,
   "id": "caf1f938",
   "metadata": {},
   "outputs": [
    {
     "data": {
      "text/plain": [
       "['practice.ipynb', 'task_1_file_name_change', 'utility']"
      ]
     },
     "execution_count": 39,
     "metadata": {},
     "output_type": "execute_result"
    }
   ],
   "source": [
    "e"
   ]
  },
  {
   "cell_type": "code",
   "execution_count": 40,
   "id": "2fded60f",
   "metadata": {
    "scrolled": true
   },
   "outputs": [
    {
     "data": {
      "text/plain": [
       "['C:\\\\Users\\\\pks98\\\\project_task\\\\project_result\\\\Meningioma_nii\\\\7040064\\\\7040064_T1C.nii.gz',\n",
       " 'C:\\\\Users\\\\pks98\\\\project_task\\\\project_result\\\\Meningioma_nii\\\\7040064\\\\7040064_T2.nii.gz']"
      ]
     },
     "execution_count": 40,
     "metadata": {},
     "output_type": "execute_result"
    }
   ],
   "source": [
    "f"
   ]
  },
  {
   "cell_type": "code",
   "execution_count": 41,
   "id": "bdb88ec0",
   "metadata": {},
   "outputs": [
    {
     "data": {
      "text/plain": [
       "[]"
      ]
     },
     "execution_count": 41,
     "metadata": {},
     "output_type": "execute_result"
    }
   ],
   "source": [
    "t"
   ]
  },
  {
   "cell_type": "code",
   "execution_count": 31,
   "id": "f29f8ce7",
   "metadata": {},
   "outputs": [
    {
     "name": "stdout",
     "output_type": "stream",
     "text": [
      "1, 3, 5\n"
     ]
    }
   ],
   "source": [
    "a = input()"
   ]
  },
  {
   "cell_type": "code",
   "execution_count": 32,
   "id": "47a6fad2",
   "metadata": {},
   "outputs": [
    {
     "data": {
      "text/plain": [
       "'1, 3, 5'"
      ]
     },
     "execution_count": 32,
     "metadata": {},
     "output_type": "execute_result"
    }
   ],
   "source": [
    "a"
   ]
  },
  {
   "cell_type": "code",
   "execution_count": 33,
   "id": "7d97df6f",
   "metadata": {},
   "outputs": [],
   "source": [
    "b = a.split(',')"
   ]
  },
  {
   "cell_type": "code",
   "execution_count": 34,
   "id": "cf44a6c1",
   "metadata": {},
   "outputs": [
    {
     "data": {
      "text/plain": [
       "['1', ' 3', ' 5']"
      ]
     },
     "execution_count": 34,
     "metadata": {},
     "output_type": "execute_result"
    }
   ],
   "source": [
    "b"
   ]
  },
  {
   "cell_type": "code",
   "execution_count": 42,
   "id": "7c105d52",
   "metadata": {},
   "outputs": [],
   "source": [
    "u = []"
   ]
  },
  {
   "cell_type": "code",
   "execution_count": 43,
   "id": "6e26c82b",
   "metadata": {},
   "outputs": [
    {
     "data": {
      "text/plain": [
       "[]"
      ]
     },
     "execution_count": 43,
     "metadata": {},
     "output_type": "execute_result"
    }
   ],
   "source": [
    "u"
   ]
  },
  {
   "cell_type": "code",
   "execution_count": 47,
   "id": "4018e5a2",
   "metadata": {},
   "outputs": [],
   "source": [
    "u = None"
   ]
  },
  {
   "cell_type": "code",
   "execution_count": 49,
   "id": "be724c42",
   "metadata": {},
   "outputs": [],
   "source": [
    "u"
   ]
  },
  {
   "cell_type": "code",
   "execution_count": 51,
   "id": "b748cc6f",
   "metadata": {},
   "outputs": [],
   "source": [
    "seq = ['T1', 'GD']"
   ]
  },
  {
   "cell_type": "code",
   "execution_count": 52,
   "id": "a5b941c6",
   "metadata": {},
   "outputs": [],
   "source": [
    "seq = '_'.join(seq)"
   ]
  },
  {
   "cell_type": "code",
   "execution_count": 53,
   "id": "fa4ef1de",
   "metadata": {},
   "outputs": [
    {
     "data": {
      "text/plain": [
       "'T1_GD'"
      ]
     },
     "execution_count": 53,
     "metadata": {},
     "output_type": "execute_result"
    }
   ],
   "source": [
    "seq"
   ]
  },
  {
   "cell_type": "markdown",
   "id": "35b8b6eb",
   "metadata": {},
   "source": [
    "# 예외처리 (arg)"
   ]
  },
  {
   "cell_type": "code",
   "execution_count": 55,
   "id": "e31d9502",
   "metadata": {},
   "outputs": [
    {
     "name": "stdout",
     "output_type": "stream",
     "text": [
      "예외: (\"unsupported operand type(s) for /: 'int' and 'str'\",)\n"
     ]
    }
   ],
   "source": [
    "try: \n",
    "    a = 50 / \"이십\" \n",
    "    \n",
    "except TypeError as e:\n",
    "    print('예외:', e.args)\n"
   ]
  },
  {
   "cell_type": "code",
   "execution_count": 56,
   "id": "ad1d77b9",
   "metadata": {},
   "outputs": [
    {
     "name": "stdout",
     "output_type": "stream",
     "text": [
      "예외: unsupported operand type(s) for /: 'int' and 'str'\n"
     ]
    }
   ],
   "source": [
    "try: \n",
    "    a = 50 / \"이십\" \n",
    "    \n",
    "except TypeError as e:\n",
    "    print('예외:', e.args[0])\n"
   ]
  },
  {
   "cell_type": "code",
   "execution_count": 57,
   "id": "7e74cdca",
   "metadata": {},
   "outputs": [
    {
     "name": "stdout",
     "output_type": "stream",
     "text": [
      "예외: unsupported operand type(s) for /: 'int' and 'str'\n"
     ]
    }
   ],
   "source": [
    "try: \n",
    "    a = 50 / \"이십\" \n",
    "    \n",
    "except TypeError as e:\n",
    "    print('예외:', e)\n"
   ]
  },
  {
   "cell_type": "code",
   "execution_count": 58,
   "id": "72dc9291",
   "metadata": {},
   "outputs": [],
   "source": [
    "list_1 = [1,2,3,4]\n",
    "list_2 = [5,6,7,8]\n",
    "\n",
    "list_3 = list_1 + list_2"
   ]
  },
  {
   "cell_type": "code",
   "execution_count": 59,
   "id": "ad565155",
   "metadata": {},
   "outputs": [
    {
     "data": {
      "text/plain": [
       "[1, 2, 3, 4, 5, 6, 7, 8]"
      ]
     },
     "execution_count": 59,
     "metadata": {},
     "output_type": "execute_result"
    }
   ],
   "source": [
    "list_3"
   ]
  },
  {
   "cell_type": "markdown",
   "id": "7e9ddbb0",
   "metadata": {},
   "source": [
    "내용물 더하려면 array로 바꿔서 해야하므"
   ]
  },
  {
   "cell_type": "markdown",
   "id": "965d7d93",
   "metadata": {},
   "source": [
    "# tqdm"
   ]
  },
  {
   "cell_type": "code",
   "execution_count": 6,
   "id": "d010a480",
   "metadata": {},
   "outputs": [
    {
     "name": "stdout",
     "output_type": "stream",
     "text": [
      "Requirement already satisfied: pip in c:\\users\\pks98\\anaconda3\\lib\\site-packages (21.2.2)\n"
     ]
    },
    {
     "name": "stderr",
     "output_type": "stream",
     "text": [
      "\r",
      "tqdm example:   0%|                                                                              | 0/5 [00:00<?, ?it/s]"
     ]
    },
    {
     "name": "stdout",
     "output_type": "stream",
     "text": [
      "Requirement already satisfied: tqdm in c:\\users\\pks98\\anaconda3\\lib\\site-packages (4.59.0)\n"
     ]
    },
    {
     "name": "stderr",
     "output_type": "stream",
     "text": [
      "\r",
      "tqdm example:  20%|██████████████                                                        | 1/5 [00:00<00:01,  3.91it/s]"
     ]
    },
    {
     "name": "stdout",
     "output_type": "stream",
     "text": [
      "0\n"
     ]
    },
    {
     "name": "stderr",
     "output_type": "stream",
     "text": [
      "\r",
      "tqdm example:  40%|████████████████████████████                                          | 2/5 [00:00<00:00,  3.91it/s]"
     ]
    },
    {
     "name": "stdout",
     "output_type": "stream",
     "text": [
      "1\n"
     ]
    },
    {
     "name": "stderr",
     "output_type": "stream",
     "text": [
      "\r",
      "tqdm example:  60%|██████████████████████████████████████████                            | 3/5 [00:00<00:00,  3.92it/s]"
     ]
    },
    {
     "name": "stdout",
     "output_type": "stream",
     "text": [
      "2\n"
     ]
    },
    {
     "name": "stderr",
     "output_type": "stream",
     "text": [
      "\r",
      "tqdm example:  80%|████████████████████████████████████████████████████████              | 4/5 [00:01<00:00,  3.92it/s]"
     ]
    },
    {
     "name": "stdout",
     "output_type": "stream",
     "text": [
      "3\n"
     ]
    },
    {
     "name": "stderr",
     "output_type": "stream",
     "text": [
      "tqdm example: 100%|██████████████████████████████████████████████████████████████████████| 5/5 [00:01<00:00,  3.90it/s]"
     ]
    },
    {
     "name": "stdout",
     "output_type": "stream",
     "text": [
      "4\n"
     ]
    },
    {
     "name": "stderr",
     "output_type": "stream",
     "text": [
      "\n"
     ]
    }
   ],
   "source": [
    "!pip install --upgrade pip\n",
    "!pip install tqdm\n",
    "from tqdm import tqdm\n",
    "import time\n",
    "\n",
    "for i in  tqdm(range(5), desc=\"tqdm example\", mininterval=0.01):\n",
    "    time.sleep(0.25)\n",
    "    # sleep이 없으면 빨리 지나가서 상태 확인 용\n",
    "    print(i)"
   ]
  },
  {
   "cell_type": "markdown",
   "id": "eeb33de5",
   "metadata": {},
   "source": [
    "# shutil"
   ]
  },
  {
   "cell_type": "code",
   "execution_count": 1,
   "id": "d2a30d51",
   "metadata": {},
   "outputs": [],
   "source": [
    "import shutil"
   ]
  },
  {
   "cell_type": "code",
   "execution_count": 2,
   "id": "62fbdee9",
   "metadata": {},
   "outputs": [],
   "source": [
    "shutil.rmtree('C:\\\\Users\\\\pks98\\\\Desktop\\\\test\\\\remove')\n",
    "## 이거 디렉자체가 사라짐!!!!안에있던 파일도 다"
   ]
  },
  {
   "cell_type": "code",
   "execution_count": null,
   "id": "834b2119",
   "metadata": {},
   "outputs": [],
   "source": []
  }
 ],
 "metadata": {
  "kernelspec": {
   "display_name": "Python 3",
   "language": "python",
   "name": "python3"
  },
  "language_info": {
   "codemirror_mode": {
    "name": "ipython",
    "version": 3
   },
   "file_extension": ".py",
   "mimetype": "text/x-python",
   "name": "python",
   "nbconvert_exporter": "python",
   "pygments_lexer": "ipython3",
   "version": "3.8.8"
  },
  "toc": {
   "base_numbering": 1,
   "nav_menu": {},
   "number_sections": true,
   "sideBar": true,
   "skip_h1_title": false,
   "title_cell": "Table of Contents",
   "title_sidebar": "Contents",
   "toc_cell": false,
   "toc_position": {},
   "toc_section_display": true,
   "toc_window_display": false
  }
 },
 "nbformat": 4,
 "nbformat_minor": 5
}
