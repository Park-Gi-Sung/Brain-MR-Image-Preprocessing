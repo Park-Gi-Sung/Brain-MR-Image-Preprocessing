{
 "cells": [
  {
   "cell_type": "code",
   "execution_count": 1,
   "id": "c353ab60",
   "metadata": {},
   "outputs": [],
   "source": [
    "import os\n",
    "import pandas as pd\n",
    "import shutil\n",
    "import numpy as np\n",
    "import natsort as ns"
   ]
  },
  {
   "cell_type": "code",
   "execution_count": 5,
   "id": "420172ba",
   "metadata": {},
   "outputs": [],
   "source": [
    "src = 'C:\\\\Users\\\\pks98\\\\Desktop\\\\project_result\\\\Task1'\n",
    "in_path = os.path.join(src, 'task1_1')\n",
    "out_path = os.path.join(src,'task1_1_convert')\n",
    "\n",
    "# src = 'Z\\\\Metastasis\\\\Registry'\n",
    "# in_path = os.path.join(src, '04_Stripped_wo_Normalized')\n",
    "# out_path = os.path.join(src,'04_Stripped_wo_Normalized_convert')\n"
   ]
  },
  {
   "cell_type": "code",
   "execution_count": 8,
   "id": "c6fd9025",
   "metadata": {},
   "outputs": [],
   "source": [
    "df_pt_id = pd.read_csv('{}'.format(os.path.join(src, 'control_nii_code.csv'), encoding = 'cp949') )\n",
    "### 처음 저장되어 있던 csv 파일 보니까 코딩 깨져서 저장되어 있어서 encoding 해줌!!"
   ]
  },
  {
   "cell_type": "code",
   "execution_count": 9,
   "id": "b19fdcdd",
   "metadata": {
    "scrolled": false
   },
   "outputs": [
    {
     "data": {
      "text/html": [
       "<div>\n",
       "<style scoped>\n",
       "    .dataframe tbody tr th:only-of-type {\n",
       "        vertical-align: middle;\n",
       "    }\n",
       "\n",
       "    .dataframe tbody tr th {\n",
       "        vertical-align: top;\n",
       "    }\n",
       "\n",
       "    .dataframe thead th {\n",
       "        text-align: right;\n",
       "    }\n",
       "</style>\n",
       "<table border=\"1\" class=\"dataframe\">\n",
       "  <thead>\n",
       "    <tr style=\"text-align: right;\">\n",
       "      <th></th>\n",
       "      <th>ID</th>\n",
       "      <th>Pt_ID</th>\n",
       "    </tr>\n",
       "  </thead>\n",
       "  <tbody>\n",
       "    <tr>\n",
       "      <th>0</th>\n",
       "      <td>C001</td>\n",
       "      <td>7040064</td>\n",
       "    </tr>\n",
       "    <tr>\n",
       "      <th>1</th>\n",
       "      <td>C002</td>\n",
       "      <td>7350798</td>\n",
       "    </tr>\n",
       "    <tr>\n",
       "      <th>2</th>\n",
       "      <td>C003</td>\n",
       "      <td>8155858</td>\n",
       "    </tr>\n",
       "  </tbody>\n",
       "</table>\n",
       "</div>"
      ],
      "text/plain": [
       "     ID    Pt_ID\n",
       "0  C001  7040064\n",
       "1  C002  7350798\n",
       "2  C003  8155858"
      ]
     },
     "execution_count": 9,
     "metadata": {},
     "output_type": "execute_result"
    }
   ],
   "source": [
    "df_pt_id"
   ]
  },
  {
   "cell_type": "code",
   "execution_count": null,
   "id": "cd91f9e3",
   "metadata": {},
   "outputs": [],
   "source": [
    "# df_pt_id.rename(columns = {df_pt_id.columns[1] : 'Pt_id'})\n",
    "# 만약에 column의 이름이 인코딩 되어있지 않아 지저분 할 때, 컬럼 이름 바꾸어주기"
   ]
  },
  {
   "cell_type": "code",
   "execution_count": 10,
   "id": "5325d233",
   "metadata": {},
   "outputs": [
    {
     "data": {
      "text/html": [
       "<div>\n",
       "<style scoped>\n",
       "    .dataframe tbody tr th:only-of-type {\n",
       "        vertical-align: middle;\n",
       "    }\n",
       "\n",
       "    .dataframe tbody tr th {\n",
       "        vertical-align: top;\n",
       "    }\n",
       "\n",
       "    .dataframe thead th {\n",
       "        text-align: right;\n",
       "    }\n",
       "</style>\n",
       "<table border=\"1\" class=\"dataframe\">\n",
       "  <thead>\n",
       "    <tr style=\"text-align: right;\">\n",
       "      <th></th>\n",
       "      <th>ID</th>\n",
       "      <th>Pt_ID</th>\n",
       "    </tr>\n",
       "  </thead>\n",
       "  <tbody>\n",
       "    <tr>\n",
       "      <th>0</th>\n",
       "      <td>R001</td>\n",
       "      <td>7040064</td>\n",
       "    </tr>\n",
       "    <tr>\n",
       "      <th>1</th>\n",
       "      <td>R002</td>\n",
       "      <td>7350798</td>\n",
       "    </tr>\n",
       "    <tr>\n",
       "      <th>2</th>\n",
       "      <td>R003</td>\n",
       "      <td>8155858</td>\n",
       "    </tr>\n",
       "  </tbody>\n",
       "</table>\n",
       "</div>"
      ],
      "text/plain": [
       "     ID    Pt_ID\n",
       "0  R001  7040064\n",
       "1  R002  7350798\n",
       "2  R003  8155858"
      ]
     },
     "execution_count": 10,
     "metadata": {},
     "output_type": "execute_result"
    }
   ],
   "source": [
    "after_id_list = []\n",
    "\n",
    "for before_id in df_pt_id['ID']:\n",
    "    after_id = 'R' + before_id[1:]\n",
    "    after_id_list.append(after_id)\n",
    "    \n",
    "df_pt_id['ID'] = after_id_list\n",
    "df_pt_id\n"
   ]
  },
  {
   "cell_type": "code",
   "execution_count": 12,
   "id": "e5561724",
   "metadata": {},
   "outputs": [],
   "source": [
    "df_pt_id.to_csv('{}'.format(os.path.join(src, 'Registry_nii_code_convert.csv')),  index = False)"
   ]
  },
  {
   "cell_type": "code",
   "execution_count": 13,
   "id": "eeafe731",
   "metadata": {},
   "outputs": [],
   "source": [
    "# convert file, T to R\n",
    "\n",
    "for (path, dirs, files) in os.walk(in_path):\n",
    "    if not files: ## 만약 files 가 비어있다면 이거는 디렉에 환자 ID만 담겨있다는 뜻\n",
    "        continue\n",
    "        \n",
    "  \n",
    "    for file in files: # 각 환자 안에 있는 파일 처리!!\n",
    "        before_id = file.split('_')[0]\n",
    "        after_id = 'R'+ before_id[1:]\n",
    "        os.makedirs(os.path.join(out_path, after_id), exist_ok = True) ## 우리가 정리할 폴더에 환자 폴더 생성      \n",
    "        \n",
    "        filename = '{}_{}'.format(after_id, '_'.join(file.split('_')[1:]) )\n",
    "        \n",
    "        if os.path.exists(os.path.join(out_path, after_id, filename)): ## 파일 이미 있으면 있다고 출력!!\n",
    "            print('file already exists')\n",
    "            continue\n",
    "            \n",
    "        shutil.copyfile(os.path.join(path,file), os.path.join(out_path, after_id, filename))"
   ]
  },
  {
   "cell_type": "code",
   "execution_count": null,
   "id": "f564b74e",
   "metadata": {},
   "outputs": [],
   "source": []
  }
 ],
 "metadata": {
  "kernelspec": {
   "display_name": "Python 3",
   "language": "python",
   "name": "python3"
  },
  "language_info": {
   "codemirror_mode": {
    "name": "ipython",
    "version": 3
   },
   "file_extension": ".py",
   "mimetype": "text/x-python",
   "name": "python",
   "nbconvert_exporter": "python",
   "pygments_lexer": "ipython3",
   "version": "3.8.8"
  },
  "toc": {
   "base_numbering": 1,
   "nav_menu": {},
   "number_sections": true,
   "sideBar": true,
   "skip_h1_title": false,
   "title_cell": "Table of Contents",
   "title_sidebar": "Contents",
   "toc_cell": false,
   "toc_position": {},
   "toc_section_display": true,
   "toc_window_display": false
  }
 },
 "nbformat": 4,
 "nbformat_minor": 5
}
