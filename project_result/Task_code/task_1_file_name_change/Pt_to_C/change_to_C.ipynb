{
 "cells": [
  {
   "cell_type": "code",
   "execution_count": 1,
   "id": "f025715a",
   "metadata": {},
   "outputs": [],
   "source": [
    "a = [\"a\", 'c']\n",
    "b = [1, 2]\n",
    "\n",
    "dic_1 = dict(zip(a,b))"
   ]
  },
  {
   "cell_type": "code",
   "execution_count": 2,
   "id": "3861630c",
   "metadata": {},
   "outputs": [
    {
     "data": {
      "text/plain": [
       "{'a': 1, 'c': 2}"
      ]
     },
     "execution_count": 2,
     "metadata": {},
     "output_type": "execute_result"
    }
   ],
   "source": [
    "dic_1"
   ]
  },
  {
   "cell_type": "code",
   "execution_count": 4,
   "id": "8a0d41d2",
   "metadata": {},
   "outputs": [],
   "source": [
    "if not [3]:\n",
    "    print(3)"
   ]
  },
  {
   "cell_type": "code",
   "execution_count": 6,
   "id": "032c6fd9",
   "metadata": {},
   "outputs": [],
   "source": [
    "file = '1343822_3D_Flair_stripped.nii.gz'"
   ]
  },
  {
   "cell_type": "code",
   "execution_count": 13,
   "id": "bf1bd4bc",
   "metadata": {},
   "outputs": [],
   "source": [
    "pt = file.split('_')[0]\n",
    "anony_pt_dic = dict({'1343822' : 'C004'})"
   ]
  },
  {
   "cell_type": "code",
   "execution_count": 41,
   "id": "7253c915",
   "metadata": {},
   "outputs": [
    {
     "data": {
      "text/plain": [
       "\"\\nfilename = [anony_value]\\nfilename.extend( file.split('_')[1:] ) \\nfilename = '_'.join( filename) \\n이것도 가능!!!\\n\""
      ]
     },
     "execution_count": 41,
     "metadata": {},
     "output_type": "execute_result"
    }
   ],
   "source": [
    "anony_value = anony_pt_dic[pt]\n",
    "filename = '{}_{}'.format(anony_value, '_'.join(file.split('_')[1:]) )\n",
    "\n",
    "'''\n",
    "filename = [anony_value]\n",
    "filename.extend( file.split('_')[1:] ) \n",
    "filename = '_'.join( filename) \n",
    "이것도 가능!!!\n",
    "'''"
   ]
  },
  {
   "cell_type": "markdown",
   "id": "ccf4ded3",
   "metadata": {},
   "source": [
    "======"
   ]
  },
  {
   "cell_type": "code",
   "execution_count": 43,
   "id": "e78e927d",
   "metadata": {},
   "outputs": [],
   "source": [
    "import os\n",
    "import pandas as pd\n",
    "import shutil"
   ]
  },
  {
   "cell_type": "code",
   "execution_count": null,
   "id": "68a6f0c5",
   "metadata": {},
   "outputs": [],
   "source": [
    "### 각 환자 ID에 매칭되는 익명의 ID 값을 담은 리스트 반환\n",
    "\n",
    "def anony_num_list(pt_list): \n",
    "     pt_list = dirs\n",
    "        ##### 여기다가 환자 iD랑 각각의 익명 이름 리스트 만들기\n",
    "        num_pt = len(pt_list) ## 환자가 몇명인지 체크\n",
    "        num_pt_list = np.arange(1, num_pt + 1) ## 1부터 마지막 환자까지 생성!!\n",
    "\n",
    "        num_pt_list = list(map(str, num_pt_list)) ## 환자 id를 숫자에서 문자열로 변경!!\n",
    "        how_long = len( str(num_pt)) ## 총 환자수를 문자열로 바꿔서 총 몇자리수인지 체크!! 그거만큼 0 넣어줄거임\n",
    "\n",
    "        num_pt_list = ['C'+ i.zfill(how_long) for i in num_pt_list]  ## 자릿수에 맞추어 0 채워주기\n",
    "        return num_pt_list"
   ]
  },
  {
   "cell_type": "code",
   "execution_count": null,
   "id": "d9ac8414",
   "metadata": {},
   "outputs": [],
   "source": [
    "anony_pt_dic = dict(zip(pt_list, num_pt_list))"
   ]
  },
  {
   "cell_type": "code",
   "execution_count": null,
   "id": "f99aa9f1",
   "metadata": {},
   "outputs": [],
   "source": [
    "### scr랑 out_path 이미 설정해 놓음\n",
    "\n",
    "for (path, dirs, files) in os.walk(src):\n",
    "    if not files: ## 만약 files 가 비어있다면 이거는 디렉에 환자 ID만 담겨있다는 뜻\n",
    "        pt_list = dirs\n",
    "        num_pt_list =  anony_num_list(pt_list)\n",
    "        \n",
    "        anony_pt_dic = dict(zip(pt_list, num_pt_list)) # 각 환자번호에 해당하는 익명의 번호를 딕셔너리로 만듦\n",
    "        continue ## 환자 ID 담고 for문 다시 돌림\n",
    "    \n",
    "    for file in files: # 각 환자 안에 있는 파일 처리!!\n",
    "        pt = file.split('_')[0]\n",
    "        os.makedirs(os.path.join(out_path, pt), exist_ok = True) ## 우리가 정리할 폴더에 환자 폴더 생성\n",
    "        \n",
    "        anony_value = anony_pt_dic[pt] # Pt_id에 해당하는 anony 값 찾아줌.\n",
    "        \n",
    "        fiename = '{}_{}'.format(anony_value, '_'.join(file.split('_')[1:]) )\n",
    "        \n",
    "        if os.path.exists(os.path.join(out_path, pt, filename)): ## 파일 이미 있으면 있다고 출력!!\n",
    "            print('file already exists')\n",
    "            continue\n",
    "            \n",
    "        shutil.copyfile(os.path.join(path,file), os.path.join(out_path, pt, filename))"
   ]
  },
  {
   "cell_type": "markdown",
   "id": "da160919",
   "metadata": {},
   "source": [
    "======  \n",
    "이거 추가하면 완성"
   ]
  },
  {
   "cell_type": "code",
   "execution_count": null,
   "id": "7e379644",
   "metadata": {},
   "outputs": [],
   "source": [
    "\n",
    "dic_pt = {'anony_num' : num_pt_list, 'Pt_ID' : pt_list}\n",
    "df_anony = pd.DataFrame(dic_pt)\n",
    "df_anony\n",
    "df_anony.info()\n"
   ]
  },
  {
   "cell_type": "code",
   "execution_count": null,
   "id": "31d0049d",
   "metadata": {},
   "outputs": [],
   "source": [
    "\n",
    "\n",
    "df_anony.to_csv('C:\\\\Users\\\\pks98\\\\Desktop\\\\test\\\\anony_file.csv', index = False)\n",
    "\n",
    "## Window에서 할 때는 위와 같이.\n",
    "#  'unicodeescape' codec can't decode bytes in position 2-3: truncated \\UXXXXXXXX escape\n",
    "\n",
    "#   --> 주소에 \\ 가 아니라 \\\\ 이런식으로 하기"
   ]
  }
 ],
 "metadata": {
  "kernelspec": {
   "display_name": "Python 3",
   "language": "python",
   "name": "python3"
  },
  "language_info": {
   "codemirror_mode": {
    "name": "ipython",
    "version": 3
   },
   "file_extension": ".py",
   "mimetype": "text/x-python",
   "name": "python",
   "nbconvert_exporter": "python",
   "pygments_lexer": "ipython3",
   "version": "3.8.8"
  },
  "toc": {
   "base_numbering": 1,
   "nav_menu": {},
   "number_sections": true,
   "sideBar": true,
   "skip_h1_title": false,
   "title_cell": "Table of Contents",
   "title_sidebar": "Contents",
   "toc_cell": false,
   "toc_position": {},
   "toc_section_display": true,
   "toc_window_display": false
  }
 },
 "nbformat": 4,
 "nbformat_minor": 5
}
