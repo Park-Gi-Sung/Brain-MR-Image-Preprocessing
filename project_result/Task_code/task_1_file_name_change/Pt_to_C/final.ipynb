{
 "cells": [
  {
   "cell_type": "code",
   "execution_count": 62,
   "id": "314a4768",
   "metadata": {},
   "outputs": [
    {
     "name": "stdout",
     "output_type": "stream",
     "text": [
      "Requirement already satisfied: natsort in c:\\users\\pks98\\anaconda3\\lib\\site-packages (7.1.1)\n"
     ]
    }
   ],
   "source": [
    "import os\n",
    "import pandas as pd\n",
    "import shutil\n",
    "import numpy as np\n",
    "import natsort as ns\n",
    "!pip install natsort ## 내부망 컴퓨터에서는 '꿀팁.txt'에서 라이브러리 설치 방법 확인 가능"
   ]
  },
  {
   "cell_type": "code",
   "execution_count": 63,
   "id": "d31c0577",
   "metadata": {},
   "outputs": [],
   "source": [
    "### 각 환자 ID에 매칭되는 익명의 ID 값을 담은 리스트 반환\n",
    "\n",
    "def anony_id_list(pt_list): \n",
    "        \n",
    "        ##### 여기다가 환자 iD랑 각각의 익명 이름 리스트 만들기\n",
    "        num_pt = len(pt_list) ## 환자가 몇명인지 체크\n",
    "        num_pt_list = np.arange(1, num_pt + 1) ## 1부터 마지막 환자까지 생성!!\n",
    "\n",
    "        num_pt_list = list(map(str, num_pt_list)) ## 환자 id를 숫자에서 문자열로 변경!!\n",
    "        how_long = len( str(num_pt)) ## 총 환자수를 문자열로 바꿔서 총 몇자리수인지 체크!! 그거만큼 0 넣어줄거임\n",
    "\n",
    "        # num_pt_list = ['C'+ i.zfill(how_long) for i in num_pt_list]  ## 자릿수에 맞추어 0 채워주기\n",
    "        num_pt_list = ['C'+ i.zfill(3) for i in num_pt_list]  # 일단 3자리로 맞춤\n",
    "        return num_pt_list"
   ]
  },
  {
   "cell_type": "code",
   "execution_count": 64,
   "id": "7ec8955f",
   "metadata": {},
   "outputs": [],
   "source": [
    "src = 'C:\\\\Users\\\\pks98\\\\Desktop\\\\project_result\\\\Task1'\n",
    "in_path = os.path.join(src, 'task1_2')\n",
    "out_path = os.path.join(src,'task1_2_anony')\n",
    "\n",
    "# # src = 'Z\\\\Metastasis\\\\control'\n",
    "# in_path = os.path.join(src, '04_Stripped_wo_Normalized')\n",
    "# out_path = os.path.join(src,'04_Stripped_wo_Normalized_anony')"
   ]
  },
  {
   "cell_type": "code",
   "execution_count": 65,
   "id": "20c3b9d4",
   "metadata": {
    "scrolled": true
   },
   "outputs": [
    {
     "name": "stdout",
     "output_type": "stream",
     "text": [
      "C:\\Users\\pks98\\Desktop\\project_result\\Task1\\task1_2 ['7040064', '7350798', '8155858'] []\n",
      "C:\\Users\\pks98\\Desktop\\project_result\\Task1\\task1_2\\7040064 [] ['7040064_T1C.nii', '7040064_T2.nii']\n",
      "C:\\Users\\pks98\\Desktop\\project_result\\Task1\\task1_2\\7350798 [] ['7350798_T1C.nii', '7350798_T2.nii']\n",
      "C:\\Users\\pks98\\Desktop\\project_result\\Task1\\task1_2\\8155858 [] ['8155858_T1C.nii', '8155858_T2.nii']\n"
     ]
    }
   ],
   "source": [
    "for (path, dirs, files) in os.walk(in_path):\n",
    "    print(path, dirs, files)\n",
    "    \n",
    "    ## 이게 보니까 만약에 8자리 숫자 있으면 8자리먼저가져오고 오름차순으로 보여주고 그다음에 아래인 7자리 보여줌..."
   ]
  },
  {
   "cell_type": "code",
   "execution_count": 39,
   "id": "20004ac4",
   "metadata": {},
   "outputs": [
    {
     "name": "stdout",
     "output_type": "stream",
     "text": [
      "['7040064', '7350798', '8155858', '10342534', '12345964', '14539234', '18939823']\n"
     ]
    }
   ],
   "source": [
    "## 그래서 일단 환자 id가 오름차순 정렬이 되어있어서 불러온다음 정수형으로 바꾸고 오름차순 정렬해줌!!!그리고 다시 문자열로 바꾸기\n",
    "\n",
    "for (path, dirs, files) in os.walk(in_path):\n",
    "    if not files: ## 만약 files 가 비어있다면 이거는 디렉에 환자 ID만 담겨있다는 뜻\n",
    "        pt_list = dirs\n",
    "        \n",
    "        pt_list = list(map(int, pt_list))\n",
    "        pt_list.sort()\n",
    "        pt_list = list(map(str, pt_list))\n",
    "        #pt_list = ns.natsorted(pt_list) 하면 문자열로 된 숫자를 정리해줌\n",
    "        \n",
    "        break\n",
    "\n",
    "\n",
    "# # 위 방법을 정수형으로 바꾸지 않고 문자열 내의 값으로 자동 정렬해주는 natsort 라이브러리 이용해도 가능!!\n",
    "\n",
    "# for (path, dirs, files) in os.walk(in_path):\n",
    "#     if not files:\n",
    "#         pt_list = dirs\n",
    "#         pt_list = ns.natsorted(pt_list)\n",
    "#         print(pt_list)\n",
    "#         break"
   ]
  },
  {
   "cell_type": "code",
   "execution_count": 41,
   "id": "c2f4b9ee",
   "metadata": {},
   "outputs": [
    {
     "ename": "KeyError",
     "evalue": "'7040064'",
     "output_type": "error",
     "traceback": [
      "\u001b[1;31m---------------------------------------------------------------------------\u001b[0m",
      "\u001b[1;31mKeyError\u001b[0m                                  Traceback (most recent call last)",
      "\u001b[1;32m<ipython-input-41-369449981d8c>\u001b[0m in \u001b[0;36m<module>\u001b[1;34m\u001b[0m\n\u001b[0;32m     20\u001b[0m         \u001b[0mos\u001b[0m\u001b[1;33m.\u001b[0m\u001b[0mmakedirs\u001b[0m\u001b[1;33m(\u001b[0m\u001b[0mos\u001b[0m\u001b[1;33m.\u001b[0m\u001b[0mpath\u001b[0m\u001b[1;33m.\u001b[0m\u001b[0mjoin\u001b[0m\u001b[1;33m(\u001b[0m\u001b[0mout_path\u001b[0m\u001b[1;33m,\u001b[0m \u001b[0mpt\u001b[0m\u001b[1;33m)\u001b[0m\u001b[1;33m,\u001b[0m \u001b[0mexist_ok\u001b[0m \u001b[1;33m=\u001b[0m \u001b[1;32mTrue\u001b[0m\u001b[1;33m)\u001b[0m \u001b[1;31m## 우리가 정리할 폴더에 환자 폴더 생성\u001b[0m\u001b[1;33m\u001b[0m\u001b[1;33m\u001b[0m\u001b[0m\n\u001b[0;32m     21\u001b[0m \u001b[1;33m\u001b[0m\u001b[0m\n\u001b[1;32m---> 22\u001b[1;33m         \u001b[0manony_value\u001b[0m \u001b[1;33m=\u001b[0m \u001b[0manony_pt_dic\u001b[0m\u001b[1;33m[\u001b[0m\u001b[0mpt\u001b[0m\u001b[1;33m]\u001b[0m \u001b[1;31m# Pt_id에 해당하는 anony 값 찾아줌.\u001b[0m\u001b[1;33m\u001b[0m\u001b[1;33m\u001b[0m\u001b[0m\n\u001b[0m\u001b[0;32m     23\u001b[0m \u001b[1;33m\u001b[0m\u001b[0m\n\u001b[0;32m     24\u001b[0m         \u001b[0mfilename\u001b[0m \u001b[1;33m=\u001b[0m \u001b[1;34m'{}_{}'\u001b[0m\u001b[1;33m.\u001b[0m\u001b[0mformat\u001b[0m\u001b[1;33m(\u001b[0m\u001b[0manony_value\u001b[0m\u001b[1;33m,\u001b[0m \u001b[1;34m'_'\u001b[0m\u001b[1;33m.\u001b[0m\u001b[0mjoin\u001b[0m\u001b[1;33m(\u001b[0m\u001b[0mfile\u001b[0m\u001b[1;33m.\u001b[0m\u001b[0msplit\u001b[0m\u001b[1;33m(\u001b[0m\u001b[1;34m'_'\u001b[0m\u001b[1;33m)\u001b[0m\u001b[1;33m[\u001b[0m\u001b[1;36m1\u001b[0m\u001b[1;33m:\u001b[0m\u001b[1;33m]\u001b[0m\u001b[1;33m)\u001b[0m \u001b[1;33m)\u001b[0m\u001b[1;33m\u001b[0m\u001b[1;33m\u001b[0m\u001b[0m\n",
      "\u001b[1;31mKeyError\u001b[0m: '7040064'"
     ]
    }
   ],
   "source": [
    "### scr랑 out_path 이미 설정해 놓음\n",
    "\n",
    "for (path, dirs, files) in os.walk(in_path):\n",
    "    if not files: ## 만약 files 가 비어있다면 이거는 디렉에 환자 ID만 담겨있다는 뜻\n",
    "        pt_list = dirs\n",
    "        \n",
    "        \n",
    "        pt_list = list(map(int, pt_list))\n",
    "        pt_list.sort()\n",
    "        pt_list = list(map(str, pt_list))\n",
    "        #pt_list = ns.natsorted(pt_list) 하면 문자열로 된 숫자를 정리해줌\n",
    "        \n",
    "        num_pt_list =  anony_id_list(pt_list)\n",
    "        \n",
    "        anony_pt_dic = dict(zip(pt_list, num_pt_list)) # 각 환자번호에 해당하는 익명의 번호를 딕셔너리로 만듦\n",
    "        continue ## 환자 ID 담고 for문 다시 돌림\n",
    "    \n",
    "    for file in files: # 각 환자 안에 있는 파일 처리!!\n",
    "        pt = file.split('_')[0]\n",
    "        anony_value = anony_pt_dic[pt] # Pt_id에 해당하는 anony 값 찾아줌.\n",
    "        os.makedirs(os.path.join(out_path, anony_value), exist_ok = True) ## 우리가 정리할 폴더에 환자 폴더 생성\n",
    "        ### 순서대로 안들어가도 이미 우리가 dict로 해당되는 번호를 지정해줬기떄문에 그거에 맞추어 생김\n",
    "        \n",
    "        \n",
    "        \n",
    "        filename = '{}_{}'.format(anony_value, '_'.join(file.split('_')[1:]) )\n",
    "        \n",
    "        if os.path.exists(os.path.join(out_path, anony_value, filename)): ## 파일 이미 있으면 있다고 출력!!\n",
    "            print('file already exists')\n",
    "            continue\n",
    "            \n",
    "        shutil.copyfile(os.path.join(path,file), os.path.join(out_path, anony_value, filename))"
   ]
  },
  {
   "cell_type": "code",
   "execution_count": 21,
   "id": "4a719271",
   "metadata": {},
   "outputs": [
    {
     "name": "stdout",
     "output_type": "stream",
     "text": [
      "<class 'pandas.core.frame.DataFrame'>\n",
      "RangeIndex: 3 entries, 0 to 2\n",
      "Data columns (total 2 columns):\n",
      " #   Column     Non-Null Count  Dtype \n",
      "---  ------     --------------  ----- \n",
      " 0   anony_num  3 non-null      object\n",
      " 1   Pt_ID      3 non-null      object\n",
      "dtypes: object(2)\n",
      "memory usage: 176.0+ bytes\n"
     ]
    }
   ],
   "source": [
    "dic_pt_id = {'ID' : num_pt_list, 'Pt_ID' : pt_list}\n",
    "df_anony = pd.DataFrame(dic_pt_id)\n",
    "df_anony.info()"
   ]
  },
  {
   "cell_type": "code",
   "execution_count": 61,
   "id": "c515b2d2",
   "metadata": {},
   "outputs": [],
   "source": [
    "\n",
    "csv_name = 'control_nii_code.csv'\n",
    "csv_path = os.path.join(src, csv_name)\n",
    "df_anony.to_csv('{}'.format(csv_path) , index = False)\n",
    "\n",
    "# Window에서 할 때는 위와 같이.\n",
    "# unicodeescape' codec can't decode bytes in position 2-3: truncated \\UXXXXXXXX escape\n",
    "# 주소에 \\ 가 아니라 \\\\ 이런식으로 하기\n",
    "# index = False로 해줘서 인덱스 값 저장 안함 --> 그러면 지금 상태 그대로 나중에 불러옴"
   ]
  },
  {
   "cell_type": "code",
   "execution_count": null,
   "id": "a8b88291",
   "metadata": {},
   "outputs": [],
   "source": []
  }
 ],
 "metadata": {
  "kernelspec": {
   "display_name": "Python 3",
   "language": "python",
   "name": "python3"
  },
  "language_info": {
   "codemirror_mode": {
    "name": "ipython",
    "version": 3
   },
   "file_extension": ".py",
   "mimetype": "text/x-python",
   "name": "python",
   "nbconvert_exporter": "python",
   "pygments_lexer": "ipython3",
   "version": "3.8.8"
  },
  "toc": {
   "base_numbering": 1,
   "nav_menu": {},
   "number_sections": true,
   "sideBar": true,
   "skip_h1_title": false,
   "title_cell": "Table of Contents",
   "title_sidebar": "Contents",
   "toc_cell": false,
   "toc_position": {},
   "toc_section_display": true,
   "toc_window_display": false
  }
 },
 "nbformat": 4,
 "nbformat_minor": 5
}
