{
 "cells": [
  {
   "cell_type": "code",
   "execution_count": 4,
   "id": "5d306094",
   "metadata": {},
   "outputs": [
    {
     "name": "stdout",
     "output_type": "stream",
     "text": [
      "Requirement already satisfied: pydicom in c:\\users\\pks98\\anaconda3\\lib\\site-packages (2.2.0)\n"
     ]
    }
   ],
   "source": [
    "!pip install pydicom\n",
    "import os\n",
    "import numpy as np\n",
    "import pandas as pd\n",
    "import shutil\n",
    "import pydicom\n",
    "from tqdm import tqdm_notebook\n",
    "# 그 공용컴에서는 'from tqdm_notebook import tqdm'\n",
    "# tqdm은 전체 for문에 길이를 넣어주어야  [ 진행단계 / 전체 ] 이걸 전반적으로 볼 수 있다."
   ]
  },
  {
   "cell_type": "code",
   "execution_count": null,
   "id": "b1476e48",
   "metadata": {},
   "outputs": [],
   "source": [
    "# 1) 교수님께서 주신 환자 엑셀 리스트 불러오기!!\n",
    "\n",
    "training_set_dir = 'D:\\\\gisung\\\\task_2'\n",
    "\n",
    "training_set = pd.read_excel(os.path.join(training_set_dir, '20200622_Training_set.xlxs'))\n",
    "pt_origin_list = training_set['original_MRN']\n",
    "pt_origin_list"
   ]
  },
  {
   "cell_type": "code",
   "execution_count": null,
   "id": "ee4595e4",
   "metadata": {},
   "outputs": [],
   "source": [
    "# 2) 폴더 돌면서 시퀀스 받아오기\n",
    "\n",
    "srcDir = 'Z\\\\Metastasis\\\\T1_FLAIR\\\\T1'\n",
    "\n",
    "check_seq = set()\n",
    "# seq 중복되는거 피하려고!!\n",
    "pt_seq_dic = dict()\n",
    "error_list = []\n",
    "\n",
    "for path, dirs, files in os.walk(srcDir):\n",
    "    if files:\n",
    "        for file in files:\n",
    "            pt = path.split(os.path.sep)[-1].split('_')[0]\n",
    "            pt = int(pt)\n",
    "            \n",
    "            if pt not in pt_seq_dic:\n",
    "                # pt 키가 없으면 생성 + set로 넣어서 중복되는 거 제외 시킬거임.\n",
    "                \n",
    "                pt_seq_dic[pt] = set()\n",
    "                \n",
    "            # 다이콤 읽어와서 seq 저장!!\n",
    "            dcmData = pydicom.dcmread(os.path.join(path, file))\n",
    "            \n",
    "            Pt_id = dcmData[0x00100020].value\n",
    "            seq = dcmData[0x008103e].value\n",
    "            \n",
    "#             print(type(Pt_id)) 문자열로 뽑힘\n",
    "            \n",
    "            Pt_id = int(Pt_id) # 위에서 pt를 정수형으로 맞춰줬고 엑셀에서 뽑은것도 정수형이라서\n",
    "        \n",
    "            if pt != Pt_id:\n",
    "                error_list.append(os.path.join(path,file))\n",
    "                continue\n",
    "                # 만약 다이콤 파일의 환자 id랑 폴더에 있는 id랑 다르면 error_list에 넣어줌!!\n",
    "                \n",
    "            pt_seq_dic[Pt_id].add(seq)\n",
    "            \n",
    "print(pt_seq_dic)"
   ]
  },
  {
   "cell_type": "code",
   "execution_count": null,
   "id": "43266176",
   "metadata": {},
   "outputs": [],
   "source": [
    "print(error_list)\n",
    "## error_list 비어 있는거 확인 :)\n",
    "## 그 말은 다이콤 id가 알맞은 환자 id 폴더에 들어있다는 의미"
   ]
  },
  {
   "cell_type": "code",
   "execution_count": null,
   "id": "5c964362",
   "metadata": {},
   "outputs": [],
   "source": [
    "# pt_df = pd.DataFrame(pt_origin_list, columns = ['pt_origin_id'])\n",
    "# 이거는 오류 뜸....왜지..?\n",
    "\n",
    "# 3) 기존 excel에 있는 환자 순서대로 목록 정리\n",
    "pt_df = pd.DataFrame(pt_origin_list)\n",
    "pt_df"
   ]
  },
  {
   "cell_type": "code",
   "execution_count": null,
   "id": "52337336",
   "metadata": {},
   "outputs": [],
   "source": [
    "# 4) 우리가 돌면서 받아온 환자 seq리스트\n",
    "\n",
    "pt_seq_df = pd.DataFrame(pt_seq_dic)\n",
    "pt_seq_df = pt_seq_df.T\n",
    "pt_seq_df = pt_seq_df.rename(columns = { 0 : 'pt_seq'})\n",
    "pt_seq_df"
   ]
  },
  {
   "cell_type": "code",
   "execution_count": null,
   "id": "ef4ea8f3",
   "metadata": {},
   "outputs": [],
   "source": [
    "# 인덱스도 환자 번호라서 column으로 빼주기\n",
    "pt_seq_df = pt_seq_df.reset_index()\n",
    "pt_seq_df = pt_seq_df.rename(columns = { 'index' : 'pt_id'})\n",
    "pt_seq_df"
   ]
  },
  {
   "cell_type": "code",
   "execution_count": null,
   "id": "073d5f30",
   "metadata": {},
   "outputs": [],
   "source": [
    "pt_df.columns"
   ]
  },
  {
   "cell_type": "code",
   "execution_count": null,
   "id": "0f1f5b30",
   "metadata": {},
   "outputs": [],
   "source": [
    "# 5) 환자 id 기준으로 합치기!!\n",
    "## 기존 original 순서에다가 합치기\n",
    "\n",
    "pt_seq_final = pd.merge(pt_df, pt_seq_df.rename(columns = {'pt_id' : 'original_MRN'}), how = 'left', on = 'original_MRN' )\n",
    "# 기존 엑셀에 있는 환자 id 순인 pt_df를 기준으로 합침\n",
    "# 만약 컬럼 이름이 같으면 상관이 없는데 다르면은 left_on, right_on으로 기준 잡아줘야 함.\n",
    "# 근데 이름 다르면 그게 두개가 들어감...그래서 한번에 해주려면 반대쪽 column명을 바꿔서 통일해줘야 함.\n",
    "# 여기서 rename하고 원본 변수에 할당 하지 않으면 원본값은 변하지 않음.\n",
    "# 대신에 이름을 바꾸었으니 on 한번만 해주면 됨.\n",
    "pt_seq_final"
   ]
  },
  {
   "cell_type": "code",
   "execution_count": null,
   "id": "a83fd99b",
   "metadata": {},
   "outputs": [],
   "source": [
    "# 환자 seqlist에 시퀀스 1개만 들어가야 하는데 혹시 다른거 들어가 있는지는 않은지 check\n",
    "num = 0\n",
    "\n",
    "for i in pt_seq_final['pt_seq']:\n",
    "    \n",
    "    if len(list(i)) == 1 :\n",
    "        pt_seq_final['pt_seq'][num] = list(i)[0]\n",
    "        \n",
    "    else:\n",
    "        break\n",
    "        \n",
    "    num += 1\n",
    "    \n",
    "print(num)\n",
    "## 만약 다 값이 1개 이면은 num값은 189, 즉 마지막 인덱스까지 다 돌고 1을 더한 189가 됨."
   ]
  },
  {
   "cell_type": "code",
   "execution_count": null,
   "id": "3d4c1503",
   "metadata": {},
   "outputs": [],
   "source": [
    "# 6) T1 시퀀스 추출\n",
    "\n",
    "pt_seq_final.to_csv( '{}'.format(os.path.join('Z:\\\\Metastasis\\\\T1_FLAIR', 'T1_seq.csv')), index = False)"
   ]
  }
 ],
 "metadata": {
  "kernelspec": {
   "display_name": "Python 3",
   "language": "python",
   "name": "python3"
  },
  "language_info": {
   "codemirror_mode": {
    "name": "ipython",
    "version": 3
   },
   "file_extension": ".py",
   "mimetype": "text/x-python",
   "name": "python",
   "nbconvert_exporter": "python",
   "pygments_lexer": "ipython3",
   "version": "3.8.8"
  },
  "toc": {
   "base_numbering": 1,
   "nav_menu": {},
   "number_sections": true,
   "sideBar": true,
   "skip_h1_title": false,
   "title_cell": "Table of Contents",
   "title_sidebar": "Contents",
   "toc_cell": false,
   "toc_position": {},
   "toc_section_display": true,
   "toc_window_display": false
  }
 },
 "nbformat": 4,
 "nbformat_minor": 5
}
