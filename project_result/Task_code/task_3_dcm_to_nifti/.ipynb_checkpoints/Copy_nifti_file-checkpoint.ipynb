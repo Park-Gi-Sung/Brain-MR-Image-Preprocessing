{
 "cells": [
  {
   "cell_type": "markdown",
   "id": "32d27b7a",
   "metadata": {},
   "source": [
    "니프티 파일은 환자당 한개라서  \n",
    "굳이 니프티 파일이랑 동일한 이름의 폴더 안에 있을 필요가 없음,  \n",
    "폴더 안에 있는거를 밖으로 빼주는 작업"
   ]
  },
  {
   "cell_type": "markdown",
   "id": "408a1684",
   "metadata": {},
   "source": [
    "폴더 새로 만들고 거기다가 복사해서 옮기고 기존 폴더 지울거임"
   ]
  },
  {
   "cell_type": "code",
   "execution_count": 5,
   "id": "19a6a8b5",
   "metadata": {},
   "outputs": [],
   "source": [
    "import numpy as np\n",
    "import os\n",
    "import shutil\n",
    "import pandas as pd\n",
    "from tqdm import tqdm_notebook"
   ]
  },
  {
   "cell_type": "code",
   "execution_count": null,
   "id": "3c66cade",
   "metadata": {},
   "outputs": [],
   "source": [
    "srcDir = 'Z:\\\\Metastasis\\\\T1_FLAIR_nii'\n",
    "destDir = 'Z:\\\\Metastasis\\\\T1_nii_final'\n",
    "\n",
    "error_list = []\n",
    "\n",
    "# for folder in os.listdir(srcDir):\n",
    "#    print(folder)\n",
    "\n",
    "for (path, dirs, files) in tqdm_notebook( os.walk(srcDir), total = 190):\n",
    "    try:\n",
    "        if files:\n",
    "            niipath = os.path.join(path,files[0])\n",
    "            # files는 리스트 형태인데 내용물이 1개라서 이거를 꺼내줘야 함. --> 그래서 인덱싱을 적용\n",
    "            # 기존에는 for문으로 하나씩 꺼내서 그냥 바로 붙이면 됐음.\n",
    "            #복사해올 파일의 위치 지정\n",
    "            \n",
    "            nii_finalpath = os.path.join(destDir, files[0])\n",
    "            ## 최종 폴더 주소에다가 이름을 붙임.\n",
    "            if not os.path.exists(nii_finalpath):\n",
    "                shutil.copyfile(niipath, nii_finalpath)\n",
    "                \n",
    "    except:\n",
    "        error_list.append(path)\n",
    "        \n",
    "print(error_list)"
   ]
  }
 ],
 "metadata": {
  "kernelspec": {
   "display_name": "Python 3",
   "language": "python",
   "name": "python3"
  },
  "language_info": {
   "codemirror_mode": {
    "name": "ipython",
    "version": 3
   },
   "file_extension": ".py",
   "mimetype": "text/x-python",
   "name": "python",
   "nbconvert_exporter": "python",
   "pygments_lexer": "ipython3",
   "version": "3.8.8"
  },
  "toc": {
   "base_numbering": 1,
   "nav_menu": {},
   "number_sections": true,
   "sideBar": true,
   "skip_h1_title": false,
   "title_cell": "Table of Contents",
   "title_sidebar": "Contents",
   "toc_cell": false,
   "toc_position": {},
   "toc_section_display": true,
   "toc_window_display": false
  }
 },
 "nbformat": 4,
 "nbformat_minor": 5
}
