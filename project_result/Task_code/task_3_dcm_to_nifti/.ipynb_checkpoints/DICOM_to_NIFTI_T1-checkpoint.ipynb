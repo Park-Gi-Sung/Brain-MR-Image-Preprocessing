{
 "cells": [
  {
   "cell_type": "code",
   "execution_count": null,
   "id": "a3f1f13c",
   "metadata": {},
   "outputs": [],
   "source": [
    "import os\n",
    "import pandas as pd\n",
    "import numpy as np\n",
    "import shutil\n",
    "import dicom2nifti\n",
    "from tqdm import tqdm_notebook"
   ]
  },
  {
   "cell_type": "code",
   "execution_count": null,
   "id": "02482992",
   "metadata": {},
   "outputs": [],
   "source": [
    "### 사용할 경로 지정 및 에러 리스트\n",
    "\n",
    "## FLAIR의 경우\n",
    "in_path = 'Z:\\\\Metastasis\\\\T1_FLAIR\\\\T1_dcm'\n",
    "out_path = 'Z:\\\\Metastasis\\\\T1_FLAIR\\\\T1_nii'\n",
    "\n",
    "error_dict = {}"
   ]
  },
  {
   "cell_type": "code",
   "execution_count": null,
   "id": "24de1336",
   "metadata": {},
   "outputs": [],
   "source": [
    "## check file directory\n",
    "\n",
    "os_len = 0\n",
    "for (dcm_path, dirs, files) in os.walk(in_path):\n",
    "    os_len += 1\n",
    "    print(dcm_path, dirs, files)\n",
    "    \n",
    "    #tqdm에 사용하려고 os_len을 만들어 줌."
   ]
  },
  {
   "cell_type": "code",
   "execution_count": null,
   "id": "d380f3ad",
   "metadata": {},
   "outputs": [],
   "source": [
    "os_len -= 1\n",
    "os_len\n",
    "\n",
    "## 실행은 안했지만 for문을 돌면서 +1을 한번 더 돌아서!! 1을 빼줌!!"
   ]
  },
  {
   "cell_type": "code",
   "execution_count": null,
   "id": "3cd74403",
   "metadata": {},
   "outputs": [],
   "source": [
    "\n",
    "\n",
    "total = 0\n",
    "error_dict = {}\n",
    "\n",
    "for (dcm_path, dirs, files) in tqdm_notebook(os.walk(in_path), total = os_len):\n",
    "    if files == []:\n",
    "        continue\n",
    "    # try 해줘야 error 떠도 넘어가면서 계속 진행    \n",
    "    try:\n",
    "        total += 1\n",
    "        print('Converting image #{} filename: {}'.format(total, dcm_path))\n",
    "        \n",
    "        pt = dcmpath.split(os.path.sep)[-1].split('_')[0]\n",
    "        seq = dcmpath.split(os.path.sep)[-1].split('_')[1]\n",
    "        print(pt, seq)\n",
    "        \n",
    "        \n",
    "        new_dir = os.path.join(out_path, '{}_{}'.format(pt,seq))\n",
    "        os.makedirs(new_dir, exist_ok = True)\n",
    "        \n",
    "        new_filename = os.path.join(new_dir, '{}_{}.nii.gz'.format(pt, seq))\n",
    "        \n",
    "        if os.path.exists(new_filename):\n",
    "            print('This file already has been converted!!')\n",
    "            continue\n",
    "            \n",
    "        dicom2nifti.dicom_series_to_nifti(dcm_path, new_filename, reorient_nifti = False)\n",
    "        # reorient_nifti = True 로 하면은 LAS 좌표계로 다 바뀌어서 저장됨...ㄷㄷ\n",
    "        \n",
    "    except Exception as error:\n",
    "        print(\"Error occured {}\".format(error))\n",
    "        error_dict[dcm_path] = [seq, error]\n",
    "        \n",
    "        \n",
    "print(error_dict)"
   ]
  }
 ],
 "metadata": {
  "kernelspec": {
   "display_name": "Python 3",
   "language": "python",
   "name": "python3"
  },
  "language_info": {
   "codemirror_mode": {
    "name": "ipython",
    "version": 3
   },
   "file_extension": ".py",
   "mimetype": "text/x-python",
   "name": "python",
   "nbconvert_exporter": "python",
   "pygments_lexer": "ipython3",
   "version": "3.8.8"
  },
  "toc": {
   "base_numbering": 1,
   "nav_menu": {},
   "number_sections": true,
   "sideBar": true,
   "skip_h1_title": false,
   "title_cell": "Table of Contents",
   "title_sidebar": "Contents",
   "toc_cell": false,
   "toc_position": {},
   "toc_section_display": true,
   "toc_window_display": false
  }
 },
 "nbformat": 4,
 "nbformat_minor": 5
}
