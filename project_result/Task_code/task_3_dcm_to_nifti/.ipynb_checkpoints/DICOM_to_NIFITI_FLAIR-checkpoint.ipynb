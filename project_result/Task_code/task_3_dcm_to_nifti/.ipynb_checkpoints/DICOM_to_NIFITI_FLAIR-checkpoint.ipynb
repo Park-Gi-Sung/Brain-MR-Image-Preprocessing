{
 "cells": [
  {
   "cell_type": "code",
   "execution_count": 1,
   "id": "8a4c6cd6",
   "metadata": {
    "collapsed": true
   },
   "outputs": [
    {
     "ename": "ModuleNotFoundError",
     "evalue": "No module named 'dicom2nifti'",
     "output_type": "error",
     "traceback": [
      "\u001b[1;31m---------------------------------------------------------------------------\u001b[0m",
      "\u001b[1;31mModuleNotFoundError\u001b[0m                       Traceback (most recent call last)",
      "\u001b[1;32m<ipython-input-1-5a4e00ad068f>\u001b[0m in \u001b[0;36m<module>\u001b[1;34m\u001b[0m\n\u001b[0;32m      3\u001b[0m \u001b[1;32mimport\u001b[0m \u001b[0mnumpy\u001b[0m \u001b[1;32mas\u001b[0m \u001b[0mnp\u001b[0m\u001b[1;33m\u001b[0m\u001b[1;33m\u001b[0m\u001b[0m\n\u001b[0;32m      4\u001b[0m \u001b[1;32mimport\u001b[0m \u001b[0mshutil\u001b[0m\u001b[1;33m\u001b[0m\u001b[1;33m\u001b[0m\u001b[0m\n\u001b[1;32m----> 5\u001b[1;33m \u001b[1;32mimport\u001b[0m \u001b[0mdicom2nifti\u001b[0m\u001b[1;33m\u001b[0m\u001b[1;33m\u001b[0m\u001b[0m\n\u001b[0m\u001b[0;32m      6\u001b[0m \u001b[1;32mfrom\u001b[0m \u001b[0mtqdm\u001b[0m \u001b[1;32mimport\u001b[0m \u001b[0mtqdm_notebook\u001b[0m\u001b[1;33m\u001b[0m\u001b[1;33m\u001b[0m\u001b[0m\n",
      "\u001b[1;31mModuleNotFoundError\u001b[0m: No module named 'dicom2nifti'"
     ]
    }
   ],
   "source": [
    "import os\n",
    "import pandas as pd\n",
    "import numpy as np\n",
    "import shutil\n",
    "import dicom2nifti\n",
    "from tqdm import tqdm_notebook"
   ]
  },
  {
   "cell_type": "code",
   "execution_count": 2,
   "id": "68d5b971",
   "metadata": {},
   "outputs": [],
   "source": [
    "### 사용할 경로 지정 및 에러 리스트\n",
    "\n",
    "## FLAIR의 경우\n",
    "in_path = 'Z:\\\\Metastasis\\\\T1_FLAIR\\\\FLAIR_dcm'\n",
    "out_path = 'Z:\\\\Metastasis\\\\T1_FLAIR\\\\FLAIR_nii'\n",
    "\n",
    "error_dict = {}"
   ]
  },
  {
   "cell_type": "code",
   "execution_count": null,
   "id": "90036d3e",
   "metadata": {},
   "outputs": [],
   "source": [
    "## check file directory\n",
    "\n",
    "os_len = 0\n",
    "for (dcm_path, dirs, files) in os.walk(in_path):\n",
    "    os_len += 1\n",
    "    print(dcm_path, dirs, files)\n",
    "    \n",
    "    #tqdm에 사용하려고 os_len을 만들어 줌."
   ]
  },
  {
   "cell_type": "code",
   "execution_count": null,
   "id": "22eaa98b",
   "metadata": {},
   "outputs": [],
   "source": [
    "os_len -= 1\n",
    "os_len\n",
    "\n",
    "## 실행은 안했지만 for문을 돌면서 +1을 한번 더 돌아서!! 1을 빼줌!!"
   ]
  },
  {
   "cell_type": "markdown",
   "id": "020001b3",
   "metadata": {},
   "source": [
    "이렇게 폴더 안에 nii를 넣었는데 폴더명이랑 파일 이름이랑 동일해서"
   ]
  },
  {
   "cell_type": "markdown",
   "id": "96bcfdf6",
   "metadata": {},
   "source": [
    "결국에 다시 파일 밖으로 빼주는 작업을 함....그냥 바로 저장하는경우도 있으니까 상황에 맞추어!!"
   ]
  },
  {
   "cell_type": "code",
   "execution_count": null,
   "id": "990f49d2",
   "metadata": {},
   "outputs": [],
   "source": [
    "\n",
    "\n",
    "total = 0\n",
    "error_dict = {}\n",
    "\n",
    "for (dcm_path, dirs, files) in tqdm_notebook(os.walk(in_path), total = os_len):\n",
    "    if files == []:\n",
    "        continue\n",
    "    # try 해줘야 error 떠도 넘어가면서 계속 진행    \n",
    "    try:\n",
    "        total += 1\n",
    "        print('Converting image #{} filename: {}'.format(total, dcm_path))\n",
    "        \n",
    "        pt = dcmpath.split(os.path.sep)[-1].split('_')[0]\n",
    "        seq_lst = dcmpath.split(os.path.sep)[-1].split('_')[1:]\n",
    "        seq = '_'.join(seq_lst)\n",
    "        # _3D_FLAIR 도 있어서 다시 합쳐줌!!!\n",
    "        print(pt, seq)\n",
    "        \n",
    "        \n",
    "        new_dir = os.path.join(out_path, '{}_{}'.format(pt,seq))\n",
    "        os.makedirs(new_dir, exist_ok = True)\n",
    "        \n",
    "        new_filename = os.path.join(new_dir, '{}_{}.nii.gz'.format(pt, seq))\n",
    "        \n",
    "        if os.path.exists(new_filename):\n",
    "            print('This file already has been converted!!')\n",
    "            continue\n",
    "            \n",
    "        dicom2nifti.dicom_series_to_nifti(dcm_path, new_filename, reorient_nifti = False)\n",
    "        # reorient_nifti = True 로 하면은 LAS 좌표계로 다 바뀌어서 저장됨...ㄷㄷ\n",
    "        \n",
    "    except Exception as error:\n",
    "        print(\"Error occured {}\".format(error))\n",
    "        error_dict[dcm_path] = [seq, error]\n",
    "        \n",
    "        \n",
    "print(error_dict)"
   ]
  }
 ],
 "metadata": {
  "kernelspec": {
   "display_name": "Python 3",
   "language": "python",
   "name": "python3"
  },
  "language_info": {
   "codemirror_mode": {
    "name": "ipython",
    "version": 3
   },
   "file_extension": ".py",
   "mimetype": "text/x-python",
   "name": "python",
   "nbconvert_exporter": "python",
   "pygments_lexer": "ipython3",
   "version": "3.8.8"
  },
  "toc": {
   "base_numbering": 1,
   "nav_menu": {},
   "number_sections": true,
   "sideBar": true,
   "skip_h1_title": false,
   "title_cell": "Table of Contents",
   "title_sidebar": "Contents",
   "toc_cell": false,
   "toc_position": {},
   "toc_section_display": true,
   "toc_window_display": false
  }
 },
 "nbformat": 4,
 "nbformat_minor": 5
}
