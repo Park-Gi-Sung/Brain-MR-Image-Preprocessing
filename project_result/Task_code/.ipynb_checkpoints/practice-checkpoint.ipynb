{
 "cells": [
  {
   "cell_type": "markdown",
   "id": "3e7d6a74",
   "metadata": {},
   "source": [
    "# glob() 라이브러리"
   ]
  },
  {
   "cell_type": "code",
   "execution_count": 36,
   "id": "1a848440",
   "metadata": {},
   "outputs": [],
   "source": [
    "from glob import glob\n",
    "import os \n",
    "import pandas as pd\n",
    "\n",
    "label = 'T1'\n",
    "path = 'C:\\\\Users\\\\pks98\\\\project_task\\\\project_result\\\\Meningioma_nii\\\\7040064'\n",
    "d = glob(os.path.join(path, '*{}*'.format(label)))[0]\n",
    "c = glob('C:\\\\Users\\\\pks98\\\\project_task\\\\project_result\\\\Meningioma_nii\\\\7040064\\\\*')\n",
    "e = glob('*') ## 현재 디렉에 있는 파일이랑 디렉 추출\n",
    "f = glob('C:\\\\Users\\\\pks98\\\\project_task\\\\project_result\\\\Meningioma_nii\\\\7040064\\\\7*')\n",
    "### 7로 시작하고 뒤에 암것도 없는거\n",
    "t = glob('C:\\\\Users\\\\pks98\\\\project_task\\\\project_result\\\\Meningioma_nii\\\\7040064\\\\8*')"
   ]
  },
  {
   "cell_type": "code",
   "execution_count": 37,
   "id": "2a661469",
   "metadata": {},
   "outputs": [
    {
     "data": {
      "text/plain": [
       "'C:\\\\Users\\\\pks98\\\\project_task\\\\project_result\\\\Meningioma_nii\\\\7040064\\\\7040064_T1C.nii.gz'"
      ]
     },
     "execution_count": 37,
     "metadata": {},
     "output_type": "execute_result"
    }
   ],
   "source": [
    "d"
   ]
  },
  {
   "cell_type": "code",
   "execution_count": 38,
   "id": "4d895c16",
   "metadata": {},
   "outputs": [
    {
     "data": {
      "text/plain": [
       "['C:\\\\Users\\\\pks98\\\\project_task\\\\project_result\\\\Meningioma_nii\\\\7040064\\\\7040064_T1C.nii.gz',\n",
       " 'C:\\\\Users\\\\pks98\\\\project_task\\\\project_result\\\\Meningioma_nii\\\\7040064\\\\7040064_T2.nii.gz']"
      ]
     },
     "execution_count": 38,
     "metadata": {},
     "output_type": "execute_result"
    }
   ],
   "source": [
    "c"
   ]
  },
  {
   "cell_type": "code",
   "execution_count": 39,
   "id": "5244ca48",
   "metadata": {},
   "outputs": [
    {
     "data": {
      "text/plain": [
       "['practice.ipynb', 'task_1_file_name_change', 'utility']"
      ]
     },
     "execution_count": 39,
     "metadata": {},
     "output_type": "execute_result"
    }
   ],
   "source": [
    "e"
   ]
  },
  {
   "cell_type": "code",
   "execution_count": 40,
   "id": "1e2e6dfc",
   "metadata": {
    "scrolled": true
   },
   "outputs": [
    {
     "data": {
      "text/plain": [
       "['C:\\\\Users\\\\pks98\\\\project_task\\\\project_result\\\\Meningioma_nii\\\\7040064\\\\7040064_T1C.nii.gz',\n",
       " 'C:\\\\Users\\\\pks98\\\\project_task\\\\project_result\\\\Meningioma_nii\\\\7040064\\\\7040064_T2.nii.gz']"
      ]
     },
     "execution_count": 40,
     "metadata": {},
     "output_type": "execute_result"
    }
   ],
   "source": [
    "f"
   ]
  },
  {
   "cell_type": "code",
   "execution_count": 41,
   "id": "8ba11df7",
   "metadata": {},
   "outputs": [
    {
     "data": {
      "text/plain": [
       "[]"
      ]
     },
     "execution_count": 41,
     "metadata": {},
     "output_type": "execute_result"
    }
   ],
   "source": [
    "t"
   ]
  },
  {
   "cell_type": "code",
   "execution_count": 31,
   "id": "693df21d",
   "metadata": {},
   "outputs": [
    {
     "name": "stdout",
     "output_type": "stream",
     "text": [
      "1, 3, 5\n"
     ]
    }
   ],
   "source": [
    "a = input()"
   ]
  },
  {
   "cell_type": "code",
   "execution_count": 32,
   "id": "75c328f4",
   "metadata": {},
   "outputs": [
    {
     "data": {
      "text/plain": [
       "'1, 3, 5'"
      ]
     },
     "execution_count": 32,
     "metadata": {},
     "output_type": "execute_result"
    }
   ],
   "source": [
    "a"
   ]
  },
  {
   "cell_type": "code",
   "execution_count": 33,
   "id": "ac7fd3de",
   "metadata": {},
   "outputs": [],
   "source": [
    "b = a.split(',')"
   ]
  },
  {
   "cell_type": "code",
   "execution_count": 34,
   "id": "312576da",
   "metadata": {},
   "outputs": [
    {
     "data": {
      "text/plain": [
       "['1', ' 3', ' 5']"
      ]
     },
     "execution_count": 34,
     "metadata": {},
     "output_type": "execute_result"
    }
   ],
   "source": [
    "b"
   ]
  },
  {
   "cell_type": "code",
   "execution_count": 42,
   "id": "78665f97",
   "metadata": {},
   "outputs": [],
   "source": [
    "u = []"
   ]
  },
  {
   "cell_type": "code",
   "execution_count": 43,
   "id": "b1272084",
   "metadata": {},
   "outputs": [
    {
     "data": {
      "text/plain": [
       "[]"
      ]
     },
     "execution_count": 43,
     "metadata": {},
     "output_type": "execute_result"
    }
   ],
   "source": [
    "u"
   ]
  },
  {
   "cell_type": "code",
   "execution_count": 47,
   "id": "38b37ed4",
   "metadata": {},
   "outputs": [],
   "source": [
    "u = None"
   ]
  },
  {
   "cell_type": "code",
   "execution_count": 49,
   "id": "84684eb9",
   "metadata": {},
   "outputs": [],
   "source": [
    "u"
   ]
  },
  {
   "cell_type": "code",
   "execution_count": null,
   "id": "b336a19c",
   "metadata": {},
   "outputs": [],
   "source": []
  },
  {
   "cell_type": "code",
   "execution_count": null,
   "id": "a413ca52",
   "metadata": {},
   "outputs": [],
   "source": [
    "seq = '_'.join(seq)"
   ]
  },
  {
   "cell_type": "code",
   "execution_count": null,
   "id": "094269b3",
   "metadata": {},
   "outputs": [],
   "source": []
  }
 ],
 "metadata": {
  "kernelspec": {
   "display_name": "Python 3",
   "language": "python",
   "name": "python3"
  },
  "language_info": {
   "codemirror_mode": {
    "name": "ipython",
    "version": 3
   },
   "file_extension": ".py",
   "mimetype": "text/x-python",
   "name": "python",
   "nbconvert_exporter": "python",
   "pygments_lexer": "ipython3",
   "version": "3.8.8"
  },
  "toc": {
   "base_numbering": 1,
   "nav_menu": {},
   "number_sections": true,
   "sideBar": true,
   "skip_h1_title": false,
   "title_cell": "Table of Contents",
   "title_sidebar": "Contents",
   "toc_cell": false,
   "toc_position": {},
   "toc_section_display": true,
   "toc_window_display": false
  }
 },
 "nbformat": 4,
 "nbformat_minor": 5
}
